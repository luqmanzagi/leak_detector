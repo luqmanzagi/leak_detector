{
 "cells": [
  {
   "cell_type": "markdown",
   "metadata": {},
   "source": [
    "# Simple Analyzer for Leak Detector\n",
    "## OptOut Version"
   ]
  },
  {
   "cell_type": "code",
   "execution_count": 1,
   "metadata": {},
   "outputs": [],
   "source": [
    "import pandas as pd\n",
    "import re\n",
    "import os"
   ]
  },
  {
   "cell_type": "markdown",
   "metadata": {},
   "source": [
    "## Convert CSV to Dataframe"
   ]
  },
  {
   "cell_type": "code",
   "execution_count": 2,
   "metadata": {},
   "outputs": [
    {
     "data": {
      "text/html": [
       "<div>\n",
       "<style scoped>\n",
       "    .dataframe tbody tr th:only-of-type {\n",
       "        vertical-align: middle;\n",
       "    }\n",
       "\n",
       "    .dataframe tbody tr th {\n",
       "        vertical-align: top;\n",
       "    }\n",
       "\n",
       "    .dataframe thead th {\n",
       "        text-align: right;\n",
       "    }\n",
       "</style>\n",
       "<table border=\"1\" class=\"dataframe\">\n",
       "  <thead>\n",
       "    <tr style=\"text-align: right;\">\n",
       "      <th></th>\n",
       "      <th>init_url</th>\n",
       "      <th>final_url</th>\n",
       "      <th>req_url</th>\n",
       "      <th>req_method</th>\n",
       "      <th>ref_pol_data</th>\n",
       "      <th>ref_data</th>\n",
       "      <th>post_data</th>\n",
       "      <th>url_leaks</th>\n",
       "      <th>post_leaks</th>\n",
       "      <th>referer_leaks</th>\n",
       "      <th>leaks</th>\n",
       "    </tr>\n",
       "  </thead>\n",
       "  <tbody>\n",
       "    <tr>\n",
       "      <th>0</th>\n",
       "      <td>https://www.youtube.com/watch?v=b5estad3s9o</td>\n",
       "      <td>https://www.youtube.com/watch?v=b5estad3s9o</td>\n",
       "      <td>https://accounts.google.com/ServiceLogin?servi...</td>\n",
       "      <td>GET</td>\n",
       "      <td>origin-when-cross-origin</td>\n",
       "      <td>https://www.youtube.com/</td>\n",
       "      <td>NaN</td>\n",
       "      <td>[('www.youtube.com',), ('urlencode', 'www.yout...</td>\n",
       "      <td>[]</td>\n",
       "      <td>[]</td>\n",
       "      <td>url_leaks</td>\n",
       "    </tr>\n",
       "    <tr>\n",
       "      <th>1</th>\n",
       "      <td>https://www.youtube.com/watch?v=b5estad3s9o</td>\n",
       "      <td>https://www.youtube.com/watch?v=b5estad3s9o</td>\n",
       "      <td>https://accounts.google.com/InteractiveLogin?c...</td>\n",
       "      <td>GET</td>\n",
       "      <td>origin-when-cross-origin</td>\n",
       "      <td>https://www.youtube.com/</td>\n",
       "      <td>NaN</td>\n",
       "      <td>[('www.youtube.com',), ('urlencode', 'www.yout...</td>\n",
       "      <td>[]</td>\n",
       "      <td>[]</td>\n",
       "      <td>url_leaks</td>\n",
       "    </tr>\n",
       "    <tr>\n",
       "      <th>2</th>\n",
       "      <td>https://www.youtube.com/watch?v=b5estad3s9o</td>\n",
       "      <td>https://www.youtube.com/watch?v=b5estad3s9o</td>\n",
       "      <td>https://accounts.google.com/v3/signin/identifi...</td>\n",
       "      <td>GET</td>\n",
       "      <td>origin-when-cross-origin</td>\n",
       "      <td>https://www.youtube.com/</td>\n",
       "      <td>NaN</td>\n",
       "      <td>[('www.youtube.com',), ('urlencode', 'www.yout...</td>\n",
       "      <td>[]</td>\n",
       "      <td>[]</td>\n",
       "      <td>url_leaks</td>\n",
       "    </tr>\n",
       "    <tr>\n",
       "      <th>3</th>\n",
       "      <td>https://www.youtube.com/watch?v=wwaxv6rbnxe</td>\n",
       "      <td>https://www.youtube.com/watch?v=wwaxv6rbnxe</td>\n",
       "      <td>https://accounts.google.com/ServiceLogin?servi...</td>\n",
       "      <td>GET</td>\n",
       "      <td>origin-when-cross-origin</td>\n",
       "      <td>https://www.youtube.com/</td>\n",
       "      <td>NaN</td>\n",
       "      <td>[('www.youtube.com',), ('urlencode', 'www.yout...</td>\n",
       "      <td>[]</td>\n",
       "      <td>[]</td>\n",
       "      <td>url_leaks</td>\n",
       "    </tr>\n",
       "    <tr>\n",
       "      <th>4</th>\n",
       "      <td>https://www.youtube.com/watch?v=wwaxv6rbnxe</td>\n",
       "      <td>https://www.youtube.com/watch?v=wwaxv6rbnxe</td>\n",
       "      <td>https://accounts.google.com/InteractiveLogin?c...</td>\n",
       "      <td>GET</td>\n",
       "      <td>origin-when-cross-origin</td>\n",
       "      <td>https://www.youtube.com/</td>\n",
       "      <td>NaN</td>\n",
       "      <td>[('www.youtube.com',), ('urlencode', 'www.yout...</td>\n",
       "      <td>[]</td>\n",
       "      <td>[]</td>\n",
       "      <td>url_leaks</td>\n",
       "    </tr>\n",
       "    <tr>\n",
       "      <th>5</th>\n",
       "      <td>https://www.youtube.com/watch?v=wwaxv6rbnxe</td>\n",
       "      <td>https://www.youtube.com/watch?v=wwaxv6rbnxe</td>\n",
       "      <td>https://accounts.google.com/v3/signin/identifi...</td>\n",
       "      <td>GET</td>\n",
       "      <td>origin-when-cross-origin</td>\n",
       "      <td>https://www.youtube.com/</td>\n",
       "      <td>NaN</td>\n",
       "      <td>[('www.youtube.com',), ('urlencode', 'www.yout...</td>\n",
       "      <td>[]</td>\n",
       "      <td>[]</td>\n",
       "      <td>url_leaks</td>\n",
       "    </tr>\n",
       "    <tr>\n",
       "      <th>6</th>\n",
       "      <td>https://www.youtube.com/watch?v=ll4dfbhroma</td>\n",
       "      <td>https://www.youtube.com/watch?v=ll4dfbhroma</td>\n",
       "      <td>https://accounts.google.com/ServiceLogin?servi...</td>\n",
       "      <td>GET</td>\n",
       "      <td>origin-when-cross-origin</td>\n",
       "      <td>https://www.youtube.com/</td>\n",
       "      <td>NaN</td>\n",
       "      <td>[('www.youtube.com',), ('urlencode', 'www.yout...</td>\n",
       "      <td>[]</td>\n",
       "      <td>[]</td>\n",
       "      <td>url_leaks</td>\n",
       "    </tr>\n",
       "    <tr>\n",
       "      <th>7</th>\n",
       "      <td>https://www.youtube.com/watch?v=ll4dfbhroma</td>\n",
       "      <td>https://www.youtube.com/watch?v=ll4dfbhroma</td>\n",
       "      <td>https://accounts.google.com/InteractiveLogin?c...</td>\n",
       "      <td>GET</td>\n",
       "      <td>origin-when-cross-origin</td>\n",
       "      <td>https://www.youtube.com/</td>\n",
       "      <td>NaN</td>\n",
       "      <td>[('www.youtube.com',), ('urlencode', 'www.yout...</td>\n",
       "      <td>[]</td>\n",
       "      <td>[]</td>\n",
       "      <td>url_leaks</td>\n",
       "    </tr>\n",
       "    <tr>\n",
       "      <th>8</th>\n",
       "      <td>https://www.youtube.com/watch?v=ll4dfbhroma</td>\n",
       "      <td>https://www.youtube.com/watch?v=ll4dfbhroma</td>\n",
       "      <td>https://accounts.google.com/v3/signin/identifi...</td>\n",
       "      <td>GET</td>\n",
       "      <td>origin-when-cross-origin</td>\n",
       "      <td>https://www.youtube.com/</td>\n",
       "      <td>NaN</td>\n",
       "      <td>[('www.youtube.com',), ('urlencode', 'www.yout...</td>\n",
       "      <td>[]</td>\n",
       "      <td>[]</td>\n",
       "      <td>url_leaks</td>\n",
       "    </tr>\n",
       "    <tr>\n",
       "      <th>9</th>\n",
       "      <td>https://www.youtube.com/@60minutes</td>\n",
       "      <td>https://www.youtube.com/@60minutes</td>\n",
       "      <td>https://accounts.google.com/ServiceLogin?servi...</td>\n",
       "      <td>GET</td>\n",
       "      <td>strict-origin-when-cross-origin</td>\n",
       "      <td>https://www.youtube.com/</td>\n",
       "      <td>NaN</td>\n",
       "      <td>[('www.youtube.com',), ('urlencode', 'www.yout...</td>\n",
       "      <td>[]</td>\n",
       "      <td>[]</td>\n",
       "      <td>url_leaks</td>\n",
       "    </tr>\n",
       "    <tr>\n",
       "      <th>10</th>\n",
       "      <td>https://www.youtube.com/@60minutes</td>\n",
       "      <td>https://www.youtube.com/@60minutes</td>\n",
       "      <td>https://accounts.google.com/InteractiveLogin?c...</td>\n",
       "      <td>GET</td>\n",
       "      <td>strict-origin-when-cross-origin</td>\n",
       "      <td>https://www.youtube.com/</td>\n",
       "      <td>NaN</td>\n",
       "      <td>[('www.youtube.com',), ('urlencode', 'www.yout...</td>\n",
       "      <td>[]</td>\n",
       "      <td>[]</td>\n",
       "      <td>url_leaks</td>\n",
       "    </tr>\n",
       "    <tr>\n",
       "      <th>11</th>\n",
       "      <td>https://www.youtube.com/@60minutes</td>\n",
       "      <td>https://www.youtube.com/@60minutes</td>\n",
       "      <td>https://accounts.google.com/v3/signin/identifi...</td>\n",
       "      <td>GET</td>\n",
       "      <td>strict-origin-when-cross-origin</td>\n",
       "      <td>https://www.youtube.com/</td>\n",
       "      <td>NaN</td>\n",
       "      <td>[('www.youtube.com',), ('urlencode', 'www.yout...</td>\n",
       "      <td>[]</td>\n",
       "      <td>[]</td>\n",
       "      <td>url_leaks</td>\n",
       "    </tr>\n",
       "    <tr>\n",
       "      <th>12</th>\n",
       "      <td>https://www.youtube.com/@msnbc</td>\n",
       "      <td>https://www.youtube.com/@msnbc</td>\n",
       "      <td>https://accounts.google.com/ServiceLogin?servi...</td>\n",
       "      <td>GET</td>\n",
       "      <td>strict-origin-when-cross-origin</td>\n",
       "      <td>https://www.youtube.com/</td>\n",
       "      <td>NaN</td>\n",
       "      <td>[('www.youtube.com',), ('urlencode', 'www.yout...</td>\n",
       "      <td>[]</td>\n",
       "      <td>[]</td>\n",
       "      <td>url_leaks</td>\n",
       "    </tr>\n",
       "    <tr>\n",
       "      <th>13</th>\n",
       "      <td>https://www.youtube.com/@msnbc</td>\n",
       "      <td>https://www.youtube.com/@msnbc</td>\n",
       "      <td>https://accounts.google.com/InteractiveLogin?c...</td>\n",
       "      <td>GET</td>\n",
       "      <td>strict-origin-when-cross-origin</td>\n",
       "      <td>https://www.youtube.com/</td>\n",
       "      <td>NaN</td>\n",
       "      <td>[('www.youtube.com',), ('urlencode', 'www.yout...</td>\n",
       "      <td>[]</td>\n",
       "      <td>[]</td>\n",
       "      <td>url_leaks</td>\n",
       "    </tr>\n",
       "    <tr>\n",
       "      <th>14</th>\n",
       "      <td>https://www.youtube.com/@msnbc</td>\n",
       "      <td>https://www.youtube.com/@msnbc</td>\n",
       "      <td>https://accounts.google.com/v3/signin/identifi...</td>\n",
       "      <td>GET</td>\n",
       "      <td>strict-origin-when-cross-origin</td>\n",
       "      <td>https://www.youtube.com/</td>\n",
       "      <td>NaN</td>\n",
       "      <td>[('www.youtube.com',), ('urlencode', 'www.yout...</td>\n",
       "      <td>[]</td>\n",
       "      <td>[]</td>\n",
       "      <td>url_leaks</td>\n",
       "    </tr>\n",
       "    <tr>\n",
       "      <th>15</th>\n",
       "      <td>https://www.youtube.com/@msnbc</td>\n",
       "      <td>https://www.youtube.com/@msnbc</td>\n",
       "      <td>https://googleads.g.doubleclick.net/pagead/vie...</td>\n",
       "      <td>GET</td>\n",
       "      <td>strict-origin-when-cross-origin</td>\n",
       "      <td>https://www.youtube.com/@msnbc</td>\n",
       "      <td>NaN</td>\n",
       "      <td>[]</td>\n",
       "      <td>[]</td>\n",
       "      <td>[('/@msnbc',)]</td>\n",
       "      <td>referer_leaks</td>\n",
       "    </tr>\n",
       "  </tbody>\n",
       "</table>\n",
       "</div>"
      ],
      "text/plain": [
       "                                       init_url  \\\n",
       "0   https://www.youtube.com/watch?v=b5estad3s9o   \n",
       "1   https://www.youtube.com/watch?v=b5estad3s9o   \n",
       "2   https://www.youtube.com/watch?v=b5estad3s9o   \n",
       "3   https://www.youtube.com/watch?v=wwaxv6rbnxe   \n",
       "4   https://www.youtube.com/watch?v=wwaxv6rbnxe   \n",
       "5   https://www.youtube.com/watch?v=wwaxv6rbnxe   \n",
       "6   https://www.youtube.com/watch?v=ll4dfbhroma   \n",
       "7   https://www.youtube.com/watch?v=ll4dfbhroma   \n",
       "8   https://www.youtube.com/watch?v=ll4dfbhroma   \n",
       "9            https://www.youtube.com/@60minutes   \n",
       "10           https://www.youtube.com/@60minutes   \n",
       "11           https://www.youtube.com/@60minutes   \n",
       "12               https://www.youtube.com/@msnbc   \n",
       "13               https://www.youtube.com/@msnbc   \n",
       "14               https://www.youtube.com/@msnbc   \n",
       "15               https://www.youtube.com/@msnbc   \n",
       "\n",
       "                                      final_url  \\\n",
       "0   https://www.youtube.com/watch?v=b5estad3s9o   \n",
       "1   https://www.youtube.com/watch?v=b5estad3s9o   \n",
       "2   https://www.youtube.com/watch?v=b5estad3s9o   \n",
       "3   https://www.youtube.com/watch?v=wwaxv6rbnxe   \n",
       "4   https://www.youtube.com/watch?v=wwaxv6rbnxe   \n",
       "5   https://www.youtube.com/watch?v=wwaxv6rbnxe   \n",
       "6   https://www.youtube.com/watch?v=ll4dfbhroma   \n",
       "7   https://www.youtube.com/watch?v=ll4dfbhroma   \n",
       "8   https://www.youtube.com/watch?v=ll4dfbhroma   \n",
       "9            https://www.youtube.com/@60minutes   \n",
       "10           https://www.youtube.com/@60minutes   \n",
       "11           https://www.youtube.com/@60minutes   \n",
       "12               https://www.youtube.com/@msnbc   \n",
       "13               https://www.youtube.com/@msnbc   \n",
       "14               https://www.youtube.com/@msnbc   \n",
       "15               https://www.youtube.com/@msnbc   \n",
       "\n",
       "                                              req_url req_method  \\\n",
       "0   https://accounts.google.com/ServiceLogin?servi...        GET   \n",
       "1   https://accounts.google.com/InteractiveLogin?c...        GET   \n",
       "2   https://accounts.google.com/v3/signin/identifi...        GET   \n",
       "3   https://accounts.google.com/ServiceLogin?servi...        GET   \n",
       "4   https://accounts.google.com/InteractiveLogin?c...        GET   \n",
       "5   https://accounts.google.com/v3/signin/identifi...        GET   \n",
       "6   https://accounts.google.com/ServiceLogin?servi...        GET   \n",
       "7   https://accounts.google.com/InteractiveLogin?c...        GET   \n",
       "8   https://accounts.google.com/v3/signin/identifi...        GET   \n",
       "9   https://accounts.google.com/ServiceLogin?servi...        GET   \n",
       "10  https://accounts.google.com/InteractiveLogin?c...        GET   \n",
       "11  https://accounts.google.com/v3/signin/identifi...        GET   \n",
       "12  https://accounts.google.com/ServiceLogin?servi...        GET   \n",
       "13  https://accounts.google.com/InteractiveLogin?c...        GET   \n",
       "14  https://accounts.google.com/v3/signin/identifi...        GET   \n",
       "15  https://googleads.g.doubleclick.net/pagead/vie...        GET   \n",
       "\n",
       "                       ref_pol_data                        ref_data  \\\n",
       "0          origin-when-cross-origin        https://www.youtube.com/   \n",
       "1          origin-when-cross-origin        https://www.youtube.com/   \n",
       "2          origin-when-cross-origin        https://www.youtube.com/   \n",
       "3          origin-when-cross-origin        https://www.youtube.com/   \n",
       "4          origin-when-cross-origin        https://www.youtube.com/   \n",
       "5          origin-when-cross-origin        https://www.youtube.com/   \n",
       "6          origin-when-cross-origin        https://www.youtube.com/   \n",
       "7          origin-when-cross-origin        https://www.youtube.com/   \n",
       "8          origin-when-cross-origin        https://www.youtube.com/   \n",
       "9   strict-origin-when-cross-origin        https://www.youtube.com/   \n",
       "10  strict-origin-when-cross-origin        https://www.youtube.com/   \n",
       "11  strict-origin-when-cross-origin        https://www.youtube.com/   \n",
       "12  strict-origin-when-cross-origin        https://www.youtube.com/   \n",
       "13  strict-origin-when-cross-origin        https://www.youtube.com/   \n",
       "14  strict-origin-when-cross-origin        https://www.youtube.com/   \n",
       "15  strict-origin-when-cross-origin  https://www.youtube.com/@msnbc   \n",
       "\n",
       "    post_data                                          url_leaks post_leaks  \\\n",
       "0         NaN  [('www.youtube.com',), ('urlencode', 'www.yout...         []   \n",
       "1         NaN  [('www.youtube.com',), ('urlencode', 'www.yout...         []   \n",
       "2         NaN  [('www.youtube.com',), ('urlencode', 'www.yout...         []   \n",
       "3         NaN  [('www.youtube.com',), ('urlencode', 'www.yout...         []   \n",
       "4         NaN  [('www.youtube.com',), ('urlencode', 'www.yout...         []   \n",
       "5         NaN  [('www.youtube.com',), ('urlencode', 'www.yout...         []   \n",
       "6         NaN  [('www.youtube.com',), ('urlencode', 'www.yout...         []   \n",
       "7         NaN  [('www.youtube.com',), ('urlencode', 'www.yout...         []   \n",
       "8         NaN  [('www.youtube.com',), ('urlencode', 'www.yout...         []   \n",
       "9         NaN  [('www.youtube.com',), ('urlencode', 'www.yout...         []   \n",
       "10        NaN  [('www.youtube.com',), ('urlencode', 'www.yout...         []   \n",
       "11        NaN  [('www.youtube.com',), ('urlencode', 'www.yout...         []   \n",
       "12        NaN  [('www.youtube.com',), ('urlencode', 'www.yout...         []   \n",
       "13        NaN  [('www.youtube.com',), ('urlencode', 'www.yout...         []   \n",
       "14        NaN  [('www.youtube.com',), ('urlencode', 'www.yout...         []   \n",
       "15        NaN                                                 []         []   \n",
       "\n",
       "     referer_leaks          leaks  \n",
       "0               []      url_leaks  \n",
       "1               []      url_leaks  \n",
       "2               []      url_leaks  \n",
       "3               []      url_leaks  \n",
       "4               []      url_leaks  \n",
       "5               []      url_leaks  \n",
       "6               []      url_leaks  \n",
       "7               []      url_leaks  \n",
       "8               []      url_leaks  \n",
       "9               []      url_leaks  \n",
       "10              []      url_leaks  \n",
       "11              []      url_leaks  \n",
       "12              []      url_leaks  \n",
       "13              []      url_leaks  \n",
       "14              []      url_leaks  \n",
       "15  [('/@msnbc',)]  referer_leaks  "
      ]
     },
     "execution_count": 2,
     "metadata": {},
     "output_type": "execute_result"
    }
   ],
   "source": [
    "# csv_file = './data_raw/2023-12-07_optOut_leaks_raw.csv'\n",
    "csv_file = './data_raw/2023-11-29_optIn_leaks_raw.csv'\n",
    "# csv_file = './data_raw/test.csv'\n",
    "extract_type = csv_file.split(\"_\")[2]\n",
    "\n",
    "extracted_df = pd.read_csv(csv_file)\n",
    "extracted_df"
   ]
  },
  {
   "cell_type": "code",
   "execution_count": 3,
   "metadata": {},
   "outputs": [],
   "source": [
    "def print_leak_to_csv(df):\n",
    "    \"\"\"\n",
    "    Check dataframe if there are colomn with name: url_leaks, referer_leaks,\n",
    "    and post_leaks. If there are, then print the dataframe to csv file.\n",
    "\n",
    "    :param df: dataframe\n",
    "\n",
    "    :return: csv file with specific name\n",
    "    \"\"\"\n",
    "    os.makedirs(\"data_seg\", exist_ok=True)\n",
    "    extract_date = re.findall(r'20(.*?)_', csv_file)\n",
    "    extract_date = ''.join(extract_date)  # Convert the list to a string\n",
    "\n",
    "    # if 'url_leaks' in df and 'referer_leaks' in df and 'post_leaks' in df:\n",
    "    #     return df.to_csv(extract_date + '_print_raw_leaks.csv')\n",
    "    if 'url_leaks' in df:\n",
    "        return df.to_csv(\"data_seg/\"+ extract_date + '_' + extract_type +'_print_url_leaks.csv')\n",
    "        # return df.to_csv(\"data_seg/\"+ extract_date + '_print_optin_url_leaks.csv')\n",
    "        # return df.to_csv(\"data_seg/\"+ extract_date + '_print_optout_url_leaks.csv')\n",
    "    elif 'referer_leaks' in df:\n",
    "        return df.to_csv(\"data_seg/\"+ extract_date + '_' + extract_type + '_print_referer_leaks.csv')\n",
    "        # return df.to_csv(\"data_seg/\"+ extract_date + '_print_optin_referer_leaks.csv')\n",
    "        # return df.to_csv(\"data_seg/\"+ extract_date + '_print_optout_referer_leaks.csv')\n",
    "    elif 'post_leaks' in df:\n",
    "        return df.to_csv(\"data_seg/\"+ extract_date + '_' + extract_type + '_print_post_leaks.csv')\n",
    "        # return df.to_csv(\"data_seg/\"+ extract_date + '_print_optin_post_leaks.csv')\n",
    "        # return df.to_csv(\"data_seg/\"+ extract_date + '_print_opt_out_post_leaks.csv')\n",
    "\n"
   ]
  },
  {
   "cell_type": "code",
   "execution_count": 4,
   "metadata": {},
   "outputs": [],
   "source": [
    "def extract_leak(data, leak):\n",
    "    \"\"\"\n",
    "    extract data with when 'leak' row is not empty\n",
    "\n",
    "    :param dataframe data: input dataframe\n",
    "    :param str leak: column name\n",
    "\n",
    "    :return: dataframe with non-empty 'leak' column\n",
    "    \"\"\"\n",
    " \n",
    "    return data[(data['leaks'].str.contains(leak, na=False))]"
   ]
  },
  {
   "cell_type": "code",
   "execution_count": 5,
   "metadata": {},
   "outputs": [],
   "source": [
    "def drop_non_leak(data, leak):\n",
    "    \"\"\"\n",
    "    drop data that not related to the leak\n",
    "\n",
    "    :param data: dataframe\n",
    "    :param leak: column name\n",
    "\n",
    "    :return: dataframe with non-empty 'leak' column\n",
    "    \"\"\"\n",
    "    data_seed = extract_leak(data, leak)\n",
    "    if leak == 'url_leaks':\n",
    "        return data_seed.drop(['post_leaks', 'ref_data', 'referer_leaks', 'post_data'], axis=1)\n",
    "    elif leak == 'referer_leaks':\n",
    "        return data_seed.drop(['url_leaks', 'post_leaks', 'post_data'], axis=1)\n",
    "    elif leak == 'post_leaks':\n",
    "        return data_seed.drop(['url_leaks', 'referer_leaks', 'ref_data'], axis=1)\n"
   ]
  },
  {
   "cell_type": "code",
   "execution_count": 8,
   "metadata": {},
   "outputs": [],
   "source": [
    "from urllib.parse import urlparse\n",
    "\n",
    "def check_urlparse(row):\n",
    "    \"\"\"check if the referer_leaks contain the netloc, path, params, query, and fragment from the final_url\n",
    "\n",
    "    :param row: row of dataframe\n",
    "\n",
    "    :return: dictionary of the referer_leaks\n",
    "    \"\"\"\n",
    "    parsed_url = urlparse(row['final_url'])\n",
    "    parsed_url_list = [parsed_url.netloc, parsed_url.path, parsed_url.params, parsed_url.query, parsed_url.fragment]\n",
    "    # print(parsed_url_list)\n",
    "    desired_list = row['referer_leaks'].split(\"'\")\n",
    "    # print (desired_list)\n",
    "    undesired_list = ['[', \n",
    "                    ']', \n",
    "                    ',', \n",
    "                    'None', \n",
    "                    '', \n",
    "                    '[(',\n",
    "                    ')]', \n",
    "                    ',)]',\n",
    "                    '), (',\n",
    "                    ', ']\n",
    "    result = {}\n",
    "    netloc, path, query ,params, fragments = '', '', '', '', ''\n",
    "    for item in desired_list:\n",
    "        if item not in undesired_list:\n",
    "            # print (item)\n",
    "            for item in desired_list:\n",
    "                if item in parsed_url_list:\n",
    "                    if item == parsed_url.netloc:\n",
    "                        netloc = parsed_url.netloc\n",
    "                    if item == parsed_url.path:\n",
    "                        path = parsed_url.path\n",
    "                    if item == parsed_url.query:\n",
    "                        query = parsed_url.query\n",
    "                    # it should be not include in referer \n",
    "                    if item == parsed_url.params:\n",
    "                        params = parsed_url.params\n",
    "                    if item == parsed_url.fragment:\n",
    "                        fragments = parsed_url.fragment\n",
    "\n",
    "    return netloc, path, query, params, fragments"
   ]
  },
  {
   "cell_type": "markdown",
   "metadata": {},
   "source": [
    "## Leaks on Referer\n",
    "\n",
    "We still need to compare with the referrer policy to make it accurate"
   ]
  },
  {
   "cell_type": "code",
   "execution_count": 6,
   "metadata": {},
   "outputs": [
    {
     "data": {
      "text/html": [
       "<div>\n",
       "<style scoped>\n",
       "    .dataframe tbody tr th:only-of-type {\n",
       "        vertical-align: middle;\n",
       "    }\n",
       "\n",
       "    .dataframe tbody tr th {\n",
       "        vertical-align: top;\n",
       "    }\n",
       "\n",
       "    .dataframe thead th {\n",
       "        text-align: right;\n",
       "    }\n",
       "</style>\n",
       "<table border=\"1\" class=\"dataframe\">\n",
       "  <thead>\n",
       "    <tr style=\"text-align: right;\">\n",
       "      <th></th>\n",
       "      <th>init_url</th>\n",
       "      <th>final_url</th>\n",
       "      <th>req_url</th>\n",
       "      <th>req_method</th>\n",
       "      <th>ref_pol_data</th>\n",
       "      <th>ref_data</th>\n",
       "      <th>referer_leaks</th>\n",
       "      <th>leaks</th>\n",
       "    </tr>\n",
       "  </thead>\n",
       "  <tbody>\n",
       "    <tr>\n",
       "      <th>15</th>\n",
       "      <td>https://www.youtube.com/@msnbc</td>\n",
       "      <td>https://www.youtube.com/@msnbc</td>\n",
       "      <td>https://googleads.g.doubleclick.net/pagead/vie...</td>\n",
       "      <td>GET</td>\n",
       "      <td>strict-origin-when-cross-origin</td>\n",
       "      <td>https://www.youtube.com/@msnbc</td>\n",
       "      <td>[('/@msnbc',)]</td>\n",
       "      <td>referer_leaks</td>\n",
       "    </tr>\n",
       "  </tbody>\n",
       "</table>\n",
       "</div>"
      ],
      "text/plain": [
       "                          init_url                       final_url  \\\n",
       "15  https://www.youtube.com/@msnbc  https://www.youtube.com/@msnbc   \n",
       "\n",
       "                                              req_url req_method  \\\n",
       "15  https://googleads.g.doubleclick.net/pagead/vie...        GET   \n",
       "\n",
       "                       ref_pol_data                        ref_data  \\\n",
       "15  strict-origin-when-cross-origin  https://www.youtube.com/@msnbc   \n",
       "\n",
       "     referer_leaks          leaks  \n",
       "15  [('/@msnbc',)]  referer_leaks  "
      ]
     },
     "execution_count": 6,
     "metadata": {},
     "output_type": "execute_result"
    }
   ],
   "source": [
    "# create a new dataframe with non-empty 'referer_leaks' column\n",
    "referer_leaks_df = drop_non_leak(extracted_df, 'referer_leaks')\n",
    "referer_leaks_df"
   ]
  },
  {
   "cell_type": "code",
   "execution_count": 7,
   "metadata": {},
   "outputs": [
    {
     "data": {
      "text/html": [
       "<div>\n",
       "<style scoped>\n",
       "    .dataframe tbody tr th:only-of-type {\n",
       "        vertical-align: middle;\n",
       "    }\n",
       "\n",
       "    .dataframe tbody tr th {\n",
       "        vertical-align: top;\n",
       "    }\n",
       "\n",
       "    .dataframe thead th {\n",
       "        text-align: right;\n",
       "    }\n",
       "</style>\n",
       "<table border=\"1\" class=\"dataframe\">\n",
       "  <thead>\n",
       "    <tr style=\"text-align: right;\">\n",
       "      <th></th>\n",
       "      <th>init_url</th>\n",
       "      <th>final_url</th>\n",
       "      <th>req_url</th>\n",
       "      <th>req_method</th>\n",
       "      <th>ref_pol_data</th>\n",
       "      <th>ref_data</th>\n",
       "      <th>referer_leaks</th>\n",
       "      <th>leaks</th>\n",
       "    </tr>\n",
       "  </thead>\n",
       "  <tbody>\n",
       "  </tbody>\n",
       "</table>\n",
       "</div>"
      ],
      "text/plain": [
       "Empty DataFrame\n",
       "Columns: [init_url, final_url, req_url, req_method, ref_pol_data, ref_data, referer_leaks, leaks]\n",
       "Index: []"
      ]
     },
     "execution_count": 7,
     "metadata": {},
     "output_type": "execute_result"
    }
   ],
   "source": [
    "# show the dataframe with more than one leaks in \"leaks\" colomn\n",
    "referer_leaks_df[referer_leaks_df['leaks'] != \"referer_leaks\"]"
   ]
  },
  {
   "cell_type": "code",
   "execution_count": 10,
   "metadata": {},
   "outputs": [
    {
     "data": {
      "text/html": [
       "<div>\n",
       "<style scoped>\n",
       "    .dataframe tbody tr th:only-of-type {\n",
       "        vertical-align: middle;\n",
       "    }\n",
       "\n",
       "    .dataframe tbody tr th {\n",
       "        vertical-align: top;\n",
       "    }\n",
       "\n",
       "    .dataframe thead th {\n",
       "        text-align: right;\n",
       "    }\n",
       "</style>\n",
       "<table border=\"1\" class=\"dataframe\">\n",
       "  <thead>\n",
       "    <tr style=\"text-align: right;\">\n",
       "      <th></th>\n",
       "      <th>init_url</th>\n",
       "      <th>final_url</th>\n",
       "      <th>req_url</th>\n",
       "      <th>req_method</th>\n",
       "      <th>ref_pol_data</th>\n",
       "      <th>ref_data</th>\n",
       "      <th>referer_leaks</th>\n",
       "      <th>leaks</th>\n",
       "      <th>netloc</th>\n",
       "      <th>path</th>\n",
       "      <th>query</th>\n",
       "      <th>params</th>\n",
       "      <th>fragments</th>\n",
       "    </tr>\n",
       "  </thead>\n",
       "  <tbody>\n",
       "    <tr>\n",
       "      <th>15</th>\n",
       "      <td>https://www.youtube.com/@msnbc</td>\n",
       "      <td>https://www.youtube.com/@msnbc</td>\n",
       "      <td>https://googleads.g.doubleclick.net/pagead/vie...</td>\n",
       "      <td>GET</td>\n",
       "      <td>strict-origin-when-cross-origin</td>\n",
       "      <td>https://www.youtube.com/@msnbc</td>\n",
       "      <td>[('/@msnbc',)]</td>\n",
       "      <td>referer_leaks</td>\n",
       "      <td></td>\n",
       "      <td>/@msnbc</td>\n",
       "      <td></td>\n",
       "      <td></td>\n",
       "      <td></td>\n",
       "    </tr>\n",
       "  </tbody>\n",
       "</table>\n",
       "</div>"
      ],
      "text/plain": [
       "                          init_url                       final_url  \\\n",
       "15  https://www.youtube.com/@msnbc  https://www.youtube.com/@msnbc   \n",
       "\n",
       "                                              req_url req_method  \\\n",
       "15  https://googleads.g.doubleclick.net/pagead/vie...        GET   \n",
       "\n",
       "                       ref_pol_data                        ref_data  \\\n",
       "15  strict-origin-when-cross-origin  https://www.youtube.com/@msnbc   \n",
       "\n",
       "     referer_leaks          leaks netloc     path query params fragments  \n",
       "15  [('/@msnbc',)]  referer_leaks         /@msnbc                         "
      ]
     },
     "execution_count": 10,
     "metadata": {},
     "output_type": "execute_result"
    }
   ],
   "source": [
    "#expand the dataframe with the result from check_urlparse function\n",
    "referer_leaks_df[['netloc', 'path', 'query', 'params', 'fragments']] = referer_leaks_df.apply(check_urlparse, axis=1, result_type='expand')\n",
    "referer_leaks_df"
   ]
  },
  {
   "cell_type": "code",
   "execution_count": 29,
   "metadata": {},
   "outputs": [
    {
     "data": {
      "text/html": [
       "<div>\n",
       "<style scoped>\n",
       "    .dataframe tbody tr th:only-of-type {\n",
       "        vertical-align: middle;\n",
       "    }\n",
       "\n",
       "    .dataframe tbody tr th {\n",
       "        vertical-align: top;\n",
       "    }\n",
       "\n",
       "    .dataframe thead th {\n",
       "        text-align: right;\n",
       "    }\n",
       "</style>\n",
       "<table border=\"1\" class=\"dataframe\">\n",
       "  <thead>\n",
       "    <tr style=\"text-align: right;\">\n",
       "      <th></th>\n",
       "      <th>init_url</th>\n",
       "      <th>final_url</th>\n",
       "      <th>req_url</th>\n",
       "      <th>req_method</th>\n",
       "      <th>ref_pol_data</th>\n",
       "      <th>ref_data</th>\n",
       "      <th>referer_leaks</th>\n",
       "      <th>leaks</th>\n",
       "      <th>netloc</th>\n",
       "      <th>path</th>\n",
       "      <th>query</th>\n",
       "      <th>params</th>\n",
       "      <th>fragments</th>\n",
       "      <th>violation</th>\n",
       "    </tr>\n",
       "  </thead>\n",
       "  <tbody>\n",
       "    <tr>\n",
       "      <th>15</th>\n",
       "      <td>https://www.youtube.com/@msnbc</td>\n",
       "      <td>https://www.youtube.com/@msnbc</td>\n",
       "      <td>https://googleads.g.doubleclick.net/pagead/vie...</td>\n",
       "      <td>GET</td>\n",
       "      <td>strict-origin-when-cross-origin</td>\n",
       "      <td>https://www.youtube.com/@msnbc</td>\n",
       "      <td>[('/@msnbc',)]</td>\n",
       "      <td>referer_leaks</td>\n",
       "      <td></td>\n",
       "      <td>/@msnbc</td>\n",
       "      <td></td>\n",
       "      <td></td>\n",
       "      <td></td>\n",
       "      <td>Violation</td>\n",
       "    </tr>\n",
       "  </tbody>\n",
       "</table>\n",
       "</div>"
      ],
      "text/plain": [
       "                          init_url                       final_url  \\\n",
       "15  https://www.youtube.com/@msnbc  https://www.youtube.com/@msnbc   \n",
       "\n",
       "                                              req_url req_method  \\\n",
       "15  https://googleads.g.doubleclick.net/pagead/vie...        GET   \n",
       "\n",
       "                       ref_pol_data                        ref_data  \\\n",
       "15  strict-origin-when-cross-origin  https://www.youtube.com/@msnbc   \n",
       "\n",
       "     referer_leaks          leaks netloc     path query params fragments  \\\n",
       "15  [('/@msnbc',)]  referer_leaks         /@msnbc                          \n",
       "\n",
       "    violation  \n",
       "15  Violation  "
      ]
     },
     "execution_count": 29,
     "metadata": {},
     "output_type": "execute_result"
    }
   ],
   "source": [
    "def check_violation(row):\n",
    "\n",
    "    ref_pol = row['ref_pol_data']\n",
    "    if ((row ['params']) or (row ['fragments'])):\n",
    "        return \"Warning\"\n",
    "    match ref_pol:\n",
    "        case 'no-referrer':\n",
    "            if ((row ['netloc']) or (row ['path']) or (row ['query'])):\n",
    "                return \"Violation\"\n",
    "        case 'same-origin':\n",
    "            if ((row ['netloc']) or (row ['path']) or (row ['query'])):\n",
    "                return \"Violation\"\n",
    "        case 'no-referrer-when-downgrade':\n",
    "            return \"Safe\"\n",
    "        case 'unsafe-url':\n",
    "            return \"Safe\"\n",
    "        case 'origin':\n",
    "            if (row ['path']) or (row ['query']):\n",
    "                return \"Violation\"\n",
    "        case 'origin-when-cross-origin':\n",
    "            if (row ['path']) or (row ['query']):\n",
    "                return \"Violation\"\n",
    "        case 'strict-origin' :\n",
    "            if (row ['path']) or (row ['query']):\n",
    "                return \"Violation\"\n",
    "        case 'strict-origin-when-cross-origin':\n",
    "            if (row ['path']) or (row ['query']):\n",
    "                return \"Violation\"\n",
    "        case _:\n",
    "            return \"Blank\"\n",
    "        \n",
    "    \n",
    "referer_leaks_df['violation'] = referer_leaks_df.apply(check_violation, axis=1, result_type='expand')\n",
    "referer_leaks_df"
   ]
  },
  {
   "cell_type": "code",
   "execution_count": null,
   "metadata": {},
   "outputs": [],
   "source": [
    "# referer_leaks_df[(referer_leaks_df['path'] == '') \n",
    "#                  & (referer_leaks_df['netloc'] == '')]\n",
    "\n",
    "referer_leaks_df[referer_leaks_df['query'] != '']\n"
   ]
  },
  {
   "cell_type": "code",
   "execution_count": null,
   "metadata": {},
   "outputs": [],
   "source": [
    "referer_leaks_df[(referer_leaks_df['params'] != '')]"
   ]
  },
  {
   "cell_type": "code",
   "execution_count": null,
   "metadata": {},
   "outputs": [],
   "source": [
    "# print to csv\n",
    "\n",
    "print_leak_to_csv(referer_leaks_df)"
   ]
  },
  {
   "cell_type": "code",
   "execution_count": null,
   "metadata": {},
   "outputs": [],
   "source": [
    "referer_leaks_df.count()"
   ]
  },
  {
   "cell_type": "code",
   "execution_count": null,
   "metadata": {},
   "outputs": [],
   "source": [
    "referer_leaks_df.drop_duplicates(subset=['final_url']).count()"
   ]
  },
  {
   "cell_type": "code",
   "execution_count": null,
   "metadata": {},
   "outputs": [],
   "source": [
    "referer_leaks_df.final_url.value_counts()"
   ]
  },
  {
   "cell_type": "code",
   "execution_count": null,
   "metadata": {},
   "outputs": [],
   "source": [
    "referer_leaks_df.req_url.value_counts()"
   ]
  },
  {
   "cell_type": "code",
   "execution_count": null,
   "metadata": {},
   "outputs": [],
   "source": [
    "referer_leaks_df.req_method.value_counts() "
   ]
  },
  {
   "cell_type": "markdown",
   "metadata": {},
   "source": [
    "### Google"
   ]
  },
  {
   "cell_type": "code",
   "execution_count": null,
   "metadata": {},
   "outputs": [],
   "source": [
    "# list of referer leaks to google\n",
    "referer_leaks_df[referer_leaks_df['req_url'].str.contains('google').fillna(False)]\n"
   ]
  },
  {
   "cell_type": "code",
   "execution_count": null,
   "metadata": {},
   "outputs": [],
   "source": [
    "# counting on referer leaks to google\n",
    "referer_leaks_df[referer_leaks_df['req_url'].str.contains('google').fillna(False)].count()\n"
   ]
  },
  {
   "cell_type": "markdown",
   "metadata": {},
   "source": [
    "### META / Facebook"
   ]
  },
  {
   "cell_type": "code",
   "execution_count": null,
   "metadata": {},
   "outputs": [],
   "source": [
    "# list of referer leaks to Meta or Facebook\n",
    "referer_leaks_df[referer_leaks_df['req_url'].str.contains('meta') | referer_leaks_df['req_url'].str.contains('facebook')]"
   ]
  },
  {
   "cell_type": "code",
   "execution_count": null,
   "metadata": {},
   "outputs": [],
   "source": [
    "# Counting on referer leaks to Meta or Facebook\n",
    "referer_leaks_df[referer_leaks_df['req_url'].str.contains('meta') | referer_leaks_df['req_url'].str.contains('facebook')].count()"
   ]
  },
  {
   "cell_type": "markdown",
   "metadata": {},
   "source": [
    "### Tiktok"
   ]
  },
  {
   "cell_type": "code",
   "execution_count": null,
   "metadata": {},
   "outputs": [],
   "source": [
    "# list of referer leaks to tiktok\n",
    "referer_leaks_df[referer_leaks_df['req_url'].str.contains('tiktok').fillna(False)] \n"
   ]
  },
  {
   "cell_type": "code",
   "execution_count": null,
   "metadata": {},
   "outputs": [],
   "source": [
    "referer_leaks_df[referer_leaks_df['req_url'].str.contains('tiktok').fillna(False)].count()\n"
   ]
  },
  {
   "cell_type": "markdown",
   "metadata": {},
   "source": [
    "## Leaks on URL"
   ]
  },
  {
   "cell_type": "code",
   "execution_count": null,
   "metadata": {},
   "outputs": [],
   "source": [
    "# create a new dataframe with non-empty 'referer_leaks' column\n",
    "url_leaks_df = drop_non_leak(extracted_df, 'url_leaks')\n",
    "url_leaks_df"
   ]
  },
  {
   "cell_type": "code",
   "execution_count": null,
   "metadata": {},
   "outputs": [],
   "source": [
    "# and print to csv\n",
    "\n",
    "print_leak_to_csv(url_leaks_df)"
   ]
  },
  {
   "cell_type": "code",
   "execution_count": null,
   "metadata": {},
   "outputs": [],
   "source": [
    "url_leaks_df.count()"
   ]
  },
  {
   "cell_type": "code",
   "execution_count": null,
   "metadata": {},
   "outputs": [],
   "source": [
    "url_leaks_df.req_method.value_counts()"
   ]
  },
  {
   "cell_type": "code",
   "execution_count": null,
   "metadata": {},
   "outputs": [],
   "source": [
    "url_leaks_df.drop_duplicates(subset=['final_url'])"
   ]
  },
  {
   "cell_type": "markdown",
   "metadata": {},
   "source": [
    "### GOOGLE"
   ]
  },
  {
   "cell_type": "code",
   "execution_count": null,
   "metadata": {},
   "outputs": [],
   "source": [
    "# count of url leaks to google\n",
    "url_leaks_df[url_leaks_df['req_url'].str.contains('google').fillna(False)].count()\n"
   ]
  },
  {
   "cell_type": "code",
   "execution_count": null,
   "metadata": {},
   "outputs": [],
   "source": [
    "# list of url leaks to google\n",
    "url_leaks_df[url_leaks_df['req_url'].str.contains('google').fillna(False)]"
   ]
  },
  {
   "cell_type": "markdown",
   "metadata": {},
   "source": [
    "### Facebook or Meta"
   ]
  },
  {
   "cell_type": "code",
   "execution_count": null,
   "metadata": {},
   "outputs": [],
   "source": [
    "# count of url leaks to Meta or Facebook\n",
    "url_leaks_df[url_leaks_df['req_url'].str.contains('meta') | url_leaks_df['req_url'].str.contains('facebook')].count()"
   ]
  },
  {
   "cell_type": "code",
   "execution_count": null,
   "metadata": {},
   "outputs": [],
   "source": [
    "# list of url leaks to Meta or Facebook\n",
    "url_leaks_df[url_leaks_df['req_url'].str.contains('meta') | url_leaks_df['req_url'].str.contains('facebook')]"
   ]
  },
  {
   "cell_type": "markdown",
   "metadata": {},
   "source": [
    "### Tiktok"
   ]
  },
  {
   "cell_type": "code",
   "execution_count": null,
   "metadata": {},
   "outputs": [],
   "source": [
    "url_leaks_df[url_leaks_df['req_url'].str.contains('tiktok').fillna(False)] \n"
   ]
  },
  {
   "cell_type": "markdown",
   "metadata": {},
   "source": [
    "### Leaks on Post Data"
   ]
  },
  {
   "cell_type": "code",
   "execution_count": null,
   "metadata": {},
   "outputs": [],
   "source": [
    "# create a new dataframe with non-empty 'post_leaks' column\n",
    "post_leaks_df = drop_non_leak(extracted_df, 'post_leaks')\n",
    "post_leaks_df"
   ]
  },
  {
   "cell_type": "code",
   "execution_count": null,
   "metadata": {},
   "outputs": [],
   "source": [
    "# print to csv\n",
    "\n",
    "post_leaks_df['post_data'] = [str(x)[:2048] for x in post_leaks_df['post_data']] # convert to string and truncate post_data to 2048 characters\n",
    "print_leak_to_csv(post_leaks_df)"
   ]
  },
  {
   "cell_type": "code",
   "execution_count": null,
   "metadata": {},
   "outputs": [],
   "source": [
    "post_leaks_df.count()"
   ]
  },
  {
   "cell_type": "code",
   "execution_count": null,
   "metadata": {},
   "outputs": [],
   "source": [
    "post_leaks_df.req_method.value_counts()\t"
   ]
  },
  {
   "cell_type": "markdown",
   "metadata": {},
   "source": [
    "## Leaks to Google, facebook, and Meta"
   ]
  },
  {
   "cell_type": "code",
   "execution_count": null,
   "metadata": {},
   "outputs": [],
   "source": [
    "# list of post data leaks to google\n",
    "post_leaks_df[post_leaks_df['req_url'].str.contains('google').fillna(False)]\n"
   ]
  },
  {
   "cell_type": "code",
   "execution_count": null,
   "metadata": {},
   "outputs": [],
   "source": [
    "# list of post data leaks to Meta or Facebook\n",
    "post_leaks_df[post_leaks_df['req_url'].str.contains('meta') | post_leaks_df['req_url'].str.contains('facebook')]"
   ]
  },
  {
   "cell_type": "code",
   "execution_count": null,
   "metadata": {},
   "outputs": [],
   "source": [
    "# list of post data leaks to tiktok\n",
    "post_leaks_df[post_leaks_df['req_url'].str.contains('tiktok').fillna(False)] \n"
   ]
  }
 ],
 "metadata": {
  "kernelspec": {
   "display_name": "Python 3",
   "language": "python",
   "name": "python3"
  },
  "language_info": {
   "codemirror_mode": {
    "name": "ipython",
    "version": 3
   },
   "file_extension": ".py",
   "mimetype": "text/x-python",
   "name": "python",
   "nbconvert_exporter": "python",
   "pygments_lexer": "ipython3",
   "version": "3.11.2"
  }
 },
 "nbformat": 4,
 "nbformat_minor": 2
}
