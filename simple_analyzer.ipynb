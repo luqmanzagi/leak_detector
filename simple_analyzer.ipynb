{
 "cells": [
  {
   "cell_type": "markdown",
   "metadata": {},
   "source": [
    "# Simple Analyzer for Leak Detector"
   ]
  },
  {
   "cell_type": "code",
   "execution_count": 1,
   "metadata": {},
   "outputs": [],
   "source": [
    "import pandas as pd\n",
    "import re\n",
    "import os"
   ]
  },
  {
   "cell_type": "markdown",
   "metadata": {},
   "source": [
    "## Convert CSV to Dataframe"
   ]
  },
  {
   "cell_type": "code",
   "execution_count": 2,
   "metadata": {},
   "outputs": [
    {
     "data": {
      "text/html": [
       "<div>\n",
       "<style scoped>\n",
       "    .dataframe tbody tr th:only-of-type {\n",
       "        vertical-align: middle;\n",
       "    }\n",
       "\n",
       "    .dataframe tbody tr th {\n",
       "        vertical-align: top;\n",
       "    }\n",
       "\n",
       "    .dataframe thead th {\n",
       "        text-align: right;\n",
       "    }\n",
       "</style>\n",
       "<table border=\"1\" class=\"dataframe\">\n",
       "  <thead>\n",
       "    <tr style=\"text-align: right;\">\n",
       "      <th></th>\n",
       "      <th>init_url</th>\n",
       "      <th>final_url</th>\n",
       "      <th>req_url</th>\n",
       "      <th>req_method</th>\n",
       "      <th>ref_pol_data</th>\n",
       "      <th>ref_data</th>\n",
       "      <th>post_data</th>\n",
       "      <th>url_leaks</th>\n",
       "      <th>post_leaks</th>\n",
       "      <th>referer_leaks</th>\n",
       "      <th>leaks</th>\n",
       "    </tr>\n",
       "  </thead>\n",
       "  <tbody>\n",
       "    <tr>\n",
       "      <th>0</th>\n",
       "      <td>https://www.youtube.com/watch?v=w9wyajjybuc</td>\n",
       "      <td>https://www.youtube.com/watch?v=w9wyajjybuc</td>\n",
       "      <td>https://accounts.google.com/ServiceLogin?servi...</td>\n",
       "      <td>GET</td>\n",
       "      <td>origin-when-cross-origin</td>\n",
       "      <td>https://www.youtube.com/</td>\n",
       "      <td>NaN</td>\n",
       "      <td>[('www.youtube.com',), ('urlencode', 'www.yout...</td>\n",
       "      <td>[]</td>\n",
       "      <td>[]</td>\n",
       "      <td>url_leaks</td>\n",
       "    </tr>\n",
       "    <tr>\n",
       "      <th>1</th>\n",
       "      <td>https://www.youtube.com/watch?v=w9wyajjybuc</td>\n",
       "      <td>https://www.youtube.com/watch?v=w9wyajjybuc</td>\n",
       "      <td>https://accounts.google.com/InteractiveLogin?c...</td>\n",
       "      <td>GET</td>\n",
       "      <td>origin-when-cross-origin</td>\n",
       "      <td>https://www.youtube.com/</td>\n",
       "      <td>NaN</td>\n",
       "      <td>[('www.youtube.com',), ('urlencode', 'www.yout...</td>\n",
       "      <td>[]</td>\n",
       "      <td>[]</td>\n",
       "      <td>url_leaks</td>\n",
       "    </tr>\n",
       "    <tr>\n",
       "      <th>2</th>\n",
       "      <td>https://www.youtube.com/watch?v=w9wyajjybuc</td>\n",
       "      <td>https://www.youtube.com/watch?v=w9wyajjybuc</td>\n",
       "      <td>https://accounts.google.com/v3/signin/identifi...</td>\n",
       "      <td>GET</td>\n",
       "      <td>origin-when-cross-origin</td>\n",
       "      <td>https://www.youtube.com/</td>\n",
       "      <td>NaN</td>\n",
       "      <td>[('www.youtube.com',), ('urlencode', 'www.yout...</td>\n",
       "      <td>[]</td>\n",
       "      <td>[]</td>\n",
       "      <td>url_leaks</td>\n",
       "    </tr>\n",
       "    <tr>\n",
       "      <th>3</th>\n",
       "      <td>https://www.youtube.com/watch?v=kq5ayctloom</td>\n",
       "      <td>https://www.youtube.com/watch?v=kq5ayctloom</td>\n",
       "      <td>https://accounts.google.com/ServiceLogin?servi...</td>\n",
       "      <td>GET</td>\n",
       "      <td>origin-when-cross-origin</td>\n",
       "      <td>https://www.youtube.com/</td>\n",
       "      <td>NaN</td>\n",
       "      <td>[('www.youtube.com',), ('urlencode', 'www.yout...</td>\n",
       "      <td>[]</td>\n",
       "      <td>[]</td>\n",
       "      <td>url_leaks</td>\n",
       "    </tr>\n",
       "    <tr>\n",
       "      <th>4</th>\n",
       "      <td>https://www.youtube.com/watch?v=kq5ayctloom</td>\n",
       "      <td>https://www.youtube.com/watch?v=kq5ayctloom</td>\n",
       "      <td>https://accounts.google.com/InteractiveLogin?c...</td>\n",
       "      <td>GET</td>\n",
       "      <td>origin-when-cross-origin</td>\n",
       "      <td>https://www.youtube.com/</td>\n",
       "      <td>NaN</td>\n",
       "      <td>[('www.youtube.com',), ('urlencode', 'www.yout...</td>\n",
       "      <td>[]</td>\n",
       "      <td>[]</td>\n",
       "      <td>url_leaks</td>\n",
       "    </tr>\n",
       "    <tr>\n",
       "      <th>...</th>\n",
       "      <td>...</td>\n",
       "      <td>...</td>\n",
       "      <td>...</td>\n",
       "      <td>...</td>\n",
       "      <td>...</td>\n",
       "      <td>...</td>\n",
       "      <td>...</td>\n",
       "      <td>...</td>\n",
       "      <td>...</td>\n",
       "      <td>...</td>\n",
       "      <td>...</td>\n",
       "    </tr>\n",
       "    <tr>\n",
       "      <th>57</th>\n",
       "      <td>https://www.youtube.com/feed/history</td>\n",
       "      <td>https://www.youtube.com/feed/history</td>\n",
       "      <td>https://accounts.google.com/InteractiveLogin?c...</td>\n",
       "      <td>GET</td>\n",
       "      <td>strict-origin-when-cross-origin</td>\n",
       "      <td>https://www.youtube.com/</td>\n",
       "      <td>NaN</td>\n",
       "      <td>[('www.youtube.com',), ('urlencode', 'www.yout...</td>\n",
       "      <td>[]</td>\n",
       "      <td>[]</td>\n",
       "      <td>url_leaks</td>\n",
       "    </tr>\n",
       "    <tr>\n",
       "      <th>58</th>\n",
       "      <td>https://www.youtube.com/feed/history</td>\n",
       "      <td>https://www.youtube.com/feed/history</td>\n",
       "      <td>https://accounts.google.com/v3/signin/identifi...</td>\n",
       "      <td>GET</td>\n",
       "      <td>strict-origin-when-cross-origin</td>\n",
       "      <td>https://www.youtube.com/</td>\n",
       "      <td>NaN</td>\n",
       "      <td>[('www.youtube.com',), ('urlencode', 'www.yout...</td>\n",
       "      <td>[]</td>\n",
       "      <td>[]</td>\n",
       "      <td>url_leaks</td>\n",
       "    </tr>\n",
       "    <tr>\n",
       "      <th>59</th>\n",
       "      <td>https://www.youtube.com/@msnbc</td>\n",
       "      <td>https://www.youtube.com/@msnbc</td>\n",
       "      <td>https://accounts.google.com/ServiceLogin?servi...</td>\n",
       "      <td>GET</td>\n",
       "      <td>strict-origin-when-cross-origin</td>\n",
       "      <td>https://www.youtube.com/</td>\n",
       "      <td>NaN</td>\n",
       "      <td>[('www.youtube.com',), ('urlencode', 'www.yout...</td>\n",
       "      <td>[]</td>\n",
       "      <td>[]</td>\n",
       "      <td>url_leaks</td>\n",
       "    </tr>\n",
       "    <tr>\n",
       "      <th>60</th>\n",
       "      <td>https://www.youtube.com/@msnbc</td>\n",
       "      <td>https://www.youtube.com/@msnbc</td>\n",
       "      <td>https://accounts.google.com/InteractiveLogin?c...</td>\n",
       "      <td>GET</td>\n",
       "      <td>strict-origin-when-cross-origin</td>\n",
       "      <td>https://www.youtube.com/</td>\n",
       "      <td>NaN</td>\n",
       "      <td>[('www.youtube.com',), ('urlencode', 'www.yout...</td>\n",
       "      <td>[]</td>\n",
       "      <td>[]</td>\n",
       "      <td>url_leaks</td>\n",
       "    </tr>\n",
       "    <tr>\n",
       "      <th>61</th>\n",
       "      <td>https://www.youtube.com/@msnbc</td>\n",
       "      <td>https://www.youtube.com/@msnbc</td>\n",
       "      <td>https://accounts.google.com/v3/signin/identifi...</td>\n",
       "      <td>GET</td>\n",
       "      <td>strict-origin-when-cross-origin</td>\n",
       "      <td>https://www.youtube.com/</td>\n",
       "      <td>NaN</td>\n",
       "      <td>[('www.youtube.com',), ('urlencode', 'www.yout...</td>\n",
       "      <td>[]</td>\n",
       "      <td>[]</td>\n",
       "      <td>url_leaks</td>\n",
       "    </tr>\n",
       "  </tbody>\n",
       "</table>\n",
       "<p>62 rows × 11 columns</p>\n",
       "</div>"
      ],
      "text/plain": [
       "                                       init_url  \\\n",
       "0   https://www.youtube.com/watch?v=w9wyajjybuc   \n",
       "1   https://www.youtube.com/watch?v=w9wyajjybuc   \n",
       "2   https://www.youtube.com/watch?v=w9wyajjybuc   \n",
       "3   https://www.youtube.com/watch?v=kq5ayctloom   \n",
       "4   https://www.youtube.com/watch?v=kq5ayctloom   \n",
       "..                                          ...   \n",
       "57         https://www.youtube.com/feed/history   \n",
       "58         https://www.youtube.com/feed/history   \n",
       "59               https://www.youtube.com/@msnbc   \n",
       "60               https://www.youtube.com/@msnbc   \n",
       "61               https://www.youtube.com/@msnbc   \n",
       "\n",
       "                                      final_url  \\\n",
       "0   https://www.youtube.com/watch?v=w9wyajjybuc   \n",
       "1   https://www.youtube.com/watch?v=w9wyajjybuc   \n",
       "2   https://www.youtube.com/watch?v=w9wyajjybuc   \n",
       "3   https://www.youtube.com/watch?v=kq5ayctloom   \n",
       "4   https://www.youtube.com/watch?v=kq5ayctloom   \n",
       "..                                          ...   \n",
       "57         https://www.youtube.com/feed/history   \n",
       "58         https://www.youtube.com/feed/history   \n",
       "59               https://www.youtube.com/@msnbc   \n",
       "60               https://www.youtube.com/@msnbc   \n",
       "61               https://www.youtube.com/@msnbc   \n",
       "\n",
       "                                              req_url req_method  \\\n",
       "0   https://accounts.google.com/ServiceLogin?servi...        GET   \n",
       "1   https://accounts.google.com/InteractiveLogin?c...        GET   \n",
       "2   https://accounts.google.com/v3/signin/identifi...        GET   \n",
       "3   https://accounts.google.com/ServiceLogin?servi...        GET   \n",
       "4   https://accounts.google.com/InteractiveLogin?c...        GET   \n",
       "..                                                ...        ...   \n",
       "57  https://accounts.google.com/InteractiveLogin?c...        GET   \n",
       "58  https://accounts.google.com/v3/signin/identifi...        GET   \n",
       "59  https://accounts.google.com/ServiceLogin?servi...        GET   \n",
       "60  https://accounts.google.com/InteractiveLogin?c...        GET   \n",
       "61  https://accounts.google.com/v3/signin/identifi...        GET   \n",
       "\n",
       "                       ref_pol_data                  ref_data  post_data  \\\n",
       "0          origin-when-cross-origin  https://www.youtube.com/        NaN   \n",
       "1          origin-when-cross-origin  https://www.youtube.com/        NaN   \n",
       "2          origin-when-cross-origin  https://www.youtube.com/        NaN   \n",
       "3          origin-when-cross-origin  https://www.youtube.com/        NaN   \n",
       "4          origin-when-cross-origin  https://www.youtube.com/        NaN   \n",
       "..                              ...                       ...        ...   \n",
       "57  strict-origin-when-cross-origin  https://www.youtube.com/        NaN   \n",
       "58  strict-origin-when-cross-origin  https://www.youtube.com/        NaN   \n",
       "59  strict-origin-when-cross-origin  https://www.youtube.com/        NaN   \n",
       "60  strict-origin-when-cross-origin  https://www.youtube.com/        NaN   \n",
       "61  strict-origin-when-cross-origin  https://www.youtube.com/        NaN   \n",
       "\n",
       "                                            url_leaks post_leaks  \\\n",
       "0   [('www.youtube.com',), ('urlencode', 'www.yout...         []   \n",
       "1   [('www.youtube.com',), ('urlencode', 'www.yout...         []   \n",
       "2   [('www.youtube.com',), ('urlencode', 'www.yout...         []   \n",
       "3   [('www.youtube.com',), ('urlencode', 'www.yout...         []   \n",
       "4   [('www.youtube.com',), ('urlencode', 'www.yout...         []   \n",
       "..                                                ...        ...   \n",
       "57  [('www.youtube.com',), ('urlencode', 'www.yout...         []   \n",
       "58  [('www.youtube.com',), ('urlencode', 'www.yout...         []   \n",
       "59  [('www.youtube.com',), ('urlencode', 'www.yout...         []   \n",
       "60  [('www.youtube.com',), ('urlencode', 'www.yout...         []   \n",
       "61  [('www.youtube.com',), ('urlencode', 'www.yout...         []   \n",
       "\n",
       "   referer_leaks      leaks  \n",
       "0             []  url_leaks  \n",
       "1             []  url_leaks  \n",
       "2             []  url_leaks  \n",
       "3             []  url_leaks  \n",
       "4             []  url_leaks  \n",
       "..           ...        ...  \n",
       "57            []  url_leaks  \n",
       "58            []  url_leaks  \n",
       "59            []  url_leaks  \n",
       "60            []  url_leaks  \n",
       "61            []  url_leaks  \n",
       "\n",
       "[62 rows x 11 columns]"
      ]
     },
     "execution_count": 2,
     "metadata": {},
     "output_type": "execute_result"
    }
   ],
   "source": [
    "csv_file = './2023-11-30_inner_collector_leak_raw_wo2.csv'\n",
    "\n",
    "extracted_df = pd.read_csv(csv_file)\n",
    "extracted_df"
   ]
  },
  {
   "cell_type": "code",
   "execution_count": 10,
   "metadata": {},
   "outputs": [],
   "source": [
    "def print_leak_to_csv(df):\n",
    "    \"\"\"\n",
    "    Check dataframe if there are colomn with name: url_leaks, referer_leaks,\n",
    "    and post_leaks. If there are, then print the dataframe to csv file.\n",
    "\n",
    "    :param df: dataframe\n",
    "\n",
    "    :return: csv file with specific name\n",
    "    \"\"\"\n",
    "    os.makedirs(\"data_seg\", exist_ok=True)\n",
    "    extract_date = re.findall(r'20(.*?)_', csv_file)\n",
    "    extract_date = ''.join(extract_date)  # Convert the list to a string\n",
    "\n",
    "    # if 'url_leaks' in df and 'referer_leaks' in df and 'post_leaks' in df:\n",
    "    #     return df.to_csv(extract_date + '_print_raw_leaks.csv')\n",
    "    if 'url_leaks' in df:\n",
    "        return df.to_csv(\"data_seg/\"+ extract_date + '_print_url_leaks.csv')\n",
    "    elif 'referer_leaks' in df:\n",
    "        return df.to_csv(\"data_seg/\"+ extract_date + '_print_referer_leaks.csv')\n",
    "    elif 'post_leaks' in df:\n",
    "        return df.to_csv(\"data_seg/\"+ extract_date + '_print_post_leaks.csv')\n"
   ]
  },
  {
   "cell_type": "code",
   "execution_count": 4,
   "metadata": {},
   "outputs": [],
   "source": [
    "def extract_leak(data, leak):\n",
    "    \"\"\"extract data with when 'leak' row is not empty\n",
    "\n",
    "    :param dataframe data: input dataframe\n",
    "    :param str leak: column name\n",
    "\n",
    "    :return: dataframe with non-empty 'leak' column\n",
    "    \"\"\"\n",
    "    return data[(data[leak] != \"[]\")\n",
    "                & (data[leak] != 'None')\n",
    "                & (data[leak] != None)]"
   ]
  },
  {
   "cell_type": "code",
   "execution_count": 5,
   "metadata": {},
   "outputs": [],
   "source": [
    "def drop_non_leak(data, leak):\n",
    "    \"\"\"drop data that not related to the leak\n",
    "\n",
    "    :param data: dataframe\n",
    "    :param leak: column name\n",
    "\n",
    "    :return: dataframe with non-empty 'leak' column\n",
    "    \"\"\"\n",
    "    data_seed = extract_leak(data, leak)\n",
    "    if leak == 'url_leaks':\n",
    "        return data_seed.drop(['post_leaks', 'ref_data', 'referer_leaks', 'post_data'], axis=1)\n",
    "    elif leak == 'referer_leaks':\n",
    "        return data_seed.drop(['url_leaks', 'post_leaks', 'post_data'], axis=1)\n",
    "    elif leak == 'post_leaks':\n",
    "        return data_seed.drop(['url_leaks', 'referer_leaks', 'ref_data'], axis=1)\n"
   ]
  },
  {
   "cell_type": "markdown",
   "metadata": {},
   "source": [
    "## Leaks on Referer\n",
    "\n",
    "We still need to compare with the referrer policy to make it accurate"
   ]
  },
  {
   "cell_type": "code",
   "execution_count": 18,
   "metadata": {},
   "outputs": [
    {
     "data": {
      "text/html": [
       "<div>\n",
       "<style scoped>\n",
       "    .dataframe tbody tr th:only-of-type {\n",
       "        vertical-align: middle;\n",
       "    }\n",
       "\n",
       "    .dataframe tbody tr th {\n",
       "        vertical-align: top;\n",
       "    }\n",
       "\n",
       "    .dataframe thead th {\n",
       "        text-align: right;\n",
       "    }\n",
       "</style>\n",
       "<table border=\"1\" class=\"dataframe\">\n",
       "  <thead>\n",
       "    <tr style=\"text-align: right;\">\n",
       "      <th></th>\n",
       "      <th>init_url</th>\n",
       "      <th>final_url</th>\n",
       "      <th>req_url</th>\n",
       "      <th>req_method</th>\n",
       "      <th>ref_pol_data</th>\n",
       "      <th>ref_data</th>\n",
       "      <th>referer_leaks</th>\n",
       "      <th>leaks</th>\n",
       "    </tr>\n",
       "  </thead>\n",
       "  <tbody>\n",
       "  </tbody>\n",
       "</table>\n",
       "</div>"
      ],
      "text/plain": [
       "Empty DataFrame\n",
       "Columns: [init_url, final_url, req_url, req_method, ref_pol_data, ref_data, referer_leaks, leaks]\n",
       "Index: []"
      ]
     },
     "execution_count": 18,
     "metadata": {},
     "output_type": "execute_result"
    }
   ],
   "source": [
    "# create a new dataframe with non-empty 'referer_leaks' column\n",
    "referer_leaks_df = drop_non_leak(extracted_df, 'referer_leaks')\n",
    "referer_leaks_df"
   ]
  },
  {
   "cell_type": "code",
   "execution_count": 19,
   "metadata": {},
   "outputs": [],
   "source": [
    "# print to csv\n",
    "\n",
    "print_leak_to_csv(referer_leaks_df)"
   ]
  },
  {
   "cell_type": "code",
   "execution_count": null,
   "metadata": {},
   "outputs": [],
   "source": [
    "referer_leaks_df.count()"
   ]
  },
  {
   "cell_type": "code",
   "execution_count": null,
   "metadata": {},
   "outputs": [],
   "source": [
    "referer_leaks_df.drop_duplicates(subset=['final_url']).count()"
   ]
  },
  {
   "cell_type": "code",
   "execution_count": null,
   "metadata": {},
   "outputs": [],
   "source": [
    "referer_leaks_df.final_url.value_counts()"
   ]
  },
  {
   "cell_type": "code",
   "execution_count": null,
   "metadata": {},
   "outputs": [],
   "source": [
    "referer_leaks_df.req_url.value_counts()"
   ]
  },
  {
   "cell_type": "code",
   "execution_count": null,
   "metadata": {},
   "outputs": [],
   "source": [
    "referer_leaks_df.req_method.value_counts() "
   ]
  },
  {
   "cell_type": "markdown",
   "metadata": {},
   "source": [
    "### Google"
   ]
  },
  {
   "cell_type": "code",
   "execution_count": null,
   "metadata": {},
   "outputs": [],
   "source": [
    "# list of referer leaks to google\n",
    "referer_leaks_df[referer_leaks_df['req_url'].str.contains('google')]"
   ]
  },
  {
   "cell_type": "code",
   "execution_count": null,
   "metadata": {},
   "outputs": [],
   "source": [
    "# counting on referer leaks to google\n",
    "referer_leaks_df[referer_leaks_df['req_url'].str.contains('google')].count()"
   ]
  },
  {
   "cell_type": "markdown",
   "metadata": {},
   "source": [
    "### META / Facebook"
   ]
  },
  {
   "cell_type": "code",
   "execution_count": null,
   "metadata": {},
   "outputs": [],
   "source": [
    "# list of referer leaks to Meta or Facebook\n",
    "referer_leaks_df[referer_leaks_df['req_url'].str.contains('meta') | referer_leaks_df['req_url'].str.contains('facebook')]"
   ]
  },
  {
   "cell_type": "code",
   "execution_count": null,
   "metadata": {},
   "outputs": [],
   "source": [
    "# Counting on referer leaks to Meta or Facebook\n",
    "referer_leaks_df[referer_leaks_df['req_url'].str.contains('meta') | referer_leaks_df['req_url'].str.contains('facebook')].count()"
   ]
  },
  {
   "cell_type": "markdown",
   "metadata": {},
   "source": [
    "### Tiktok"
   ]
  },
  {
   "cell_type": "code",
   "execution_count": null,
   "metadata": {},
   "outputs": [],
   "source": [
    "# list of referer leaks to tiktok\n",
    "referer_leaks_df[referer_leaks_df['req_url'].str.contains('tiktok')] "
   ]
  },
  {
   "cell_type": "code",
   "execution_count": null,
   "metadata": {},
   "outputs": [],
   "source": [
    "# Counting on referer leaks to tiktok\n",
    "referer_leaks_df[referer_leaks_df['req_url'].str.contains('tiktok')].count()"
   ]
  },
  {
   "cell_type": "markdown",
   "metadata": {},
   "source": [
    "## Leaks on URL"
   ]
  },
  {
   "cell_type": "code",
   "execution_count": 20,
   "metadata": {},
   "outputs": [
    {
     "data": {
      "text/html": [
       "<div>\n",
       "<style scoped>\n",
       "    .dataframe tbody tr th:only-of-type {\n",
       "        vertical-align: middle;\n",
       "    }\n",
       "\n",
       "    .dataframe tbody tr th {\n",
       "        vertical-align: top;\n",
       "    }\n",
       "\n",
       "    .dataframe thead th {\n",
       "        text-align: right;\n",
       "    }\n",
       "</style>\n",
       "<table border=\"1\" class=\"dataframe\">\n",
       "  <thead>\n",
       "    <tr style=\"text-align: right;\">\n",
       "      <th></th>\n",
       "      <th>init_url</th>\n",
       "      <th>final_url</th>\n",
       "      <th>req_url</th>\n",
       "      <th>req_method</th>\n",
       "      <th>ref_pol_data</th>\n",
       "      <th>url_leaks</th>\n",
       "      <th>leaks</th>\n",
       "    </tr>\n",
       "  </thead>\n",
       "  <tbody>\n",
       "    <tr>\n",
       "      <th>0</th>\n",
       "      <td>https://www.youtube.com/watch?v=w9wyajjybuc</td>\n",
       "      <td>https://www.youtube.com/watch?v=w9wyajjybuc</td>\n",
       "      <td>https://accounts.google.com/ServiceLogin?servi...</td>\n",
       "      <td>GET</td>\n",
       "      <td>origin-when-cross-origin</td>\n",
       "      <td>[('www.youtube.com',), ('urlencode', 'www.yout...</td>\n",
       "      <td>url_leaks</td>\n",
       "    </tr>\n",
       "    <tr>\n",
       "      <th>1</th>\n",
       "      <td>https://www.youtube.com/watch?v=w9wyajjybuc</td>\n",
       "      <td>https://www.youtube.com/watch?v=w9wyajjybuc</td>\n",
       "      <td>https://accounts.google.com/InteractiveLogin?c...</td>\n",
       "      <td>GET</td>\n",
       "      <td>origin-when-cross-origin</td>\n",
       "      <td>[('www.youtube.com',), ('urlencode', 'www.yout...</td>\n",
       "      <td>url_leaks</td>\n",
       "    </tr>\n",
       "    <tr>\n",
       "      <th>2</th>\n",
       "      <td>https://www.youtube.com/watch?v=w9wyajjybuc</td>\n",
       "      <td>https://www.youtube.com/watch?v=w9wyajjybuc</td>\n",
       "      <td>https://accounts.google.com/v3/signin/identifi...</td>\n",
       "      <td>GET</td>\n",
       "      <td>origin-when-cross-origin</td>\n",
       "      <td>[('www.youtube.com',), ('urlencode', 'www.yout...</td>\n",
       "      <td>url_leaks</td>\n",
       "    </tr>\n",
       "    <tr>\n",
       "      <th>3</th>\n",
       "      <td>https://www.youtube.com/watch?v=kq5ayctloom</td>\n",
       "      <td>https://www.youtube.com/watch?v=kq5ayctloom</td>\n",
       "      <td>https://accounts.google.com/ServiceLogin?servi...</td>\n",
       "      <td>GET</td>\n",
       "      <td>origin-when-cross-origin</td>\n",
       "      <td>[('www.youtube.com',), ('urlencode', 'www.yout...</td>\n",
       "      <td>url_leaks</td>\n",
       "    </tr>\n",
       "    <tr>\n",
       "      <th>4</th>\n",
       "      <td>https://www.youtube.com/watch?v=kq5ayctloom</td>\n",
       "      <td>https://www.youtube.com/watch?v=kq5ayctloom</td>\n",
       "      <td>https://accounts.google.com/InteractiveLogin?c...</td>\n",
       "      <td>GET</td>\n",
       "      <td>origin-when-cross-origin</td>\n",
       "      <td>[('www.youtube.com',), ('urlencode', 'www.yout...</td>\n",
       "      <td>url_leaks</td>\n",
       "    </tr>\n",
       "    <tr>\n",
       "      <th>...</th>\n",
       "      <td>...</td>\n",
       "      <td>...</td>\n",
       "      <td>...</td>\n",
       "      <td>...</td>\n",
       "      <td>...</td>\n",
       "      <td>...</td>\n",
       "      <td>...</td>\n",
       "    </tr>\n",
       "    <tr>\n",
       "      <th>57</th>\n",
       "      <td>https://www.youtube.com/feed/history</td>\n",
       "      <td>https://www.youtube.com/feed/history</td>\n",
       "      <td>https://accounts.google.com/InteractiveLogin?c...</td>\n",
       "      <td>GET</td>\n",
       "      <td>strict-origin-when-cross-origin</td>\n",
       "      <td>[('www.youtube.com',), ('urlencode', 'www.yout...</td>\n",
       "      <td>url_leaks</td>\n",
       "    </tr>\n",
       "    <tr>\n",
       "      <th>58</th>\n",
       "      <td>https://www.youtube.com/feed/history</td>\n",
       "      <td>https://www.youtube.com/feed/history</td>\n",
       "      <td>https://accounts.google.com/v3/signin/identifi...</td>\n",
       "      <td>GET</td>\n",
       "      <td>strict-origin-when-cross-origin</td>\n",
       "      <td>[('www.youtube.com',), ('urlencode', 'www.yout...</td>\n",
       "      <td>url_leaks</td>\n",
       "    </tr>\n",
       "    <tr>\n",
       "      <th>59</th>\n",
       "      <td>https://www.youtube.com/@msnbc</td>\n",
       "      <td>https://www.youtube.com/@msnbc</td>\n",
       "      <td>https://accounts.google.com/ServiceLogin?servi...</td>\n",
       "      <td>GET</td>\n",
       "      <td>strict-origin-when-cross-origin</td>\n",
       "      <td>[('www.youtube.com',), ('urlencode', 'www.yout...</td>\n",
       "      <td>url_leaks</td>\n",
       "    </tr>\n",
       "    <tr>\n",
       "      <th>60</th>\n",
       "      <td>https://www.youtube.com/@msnbc</td>\n",
       "      <td>https://www.youtube.com/@msnbc</td>\n",
       "      <td>https://accounts.google.com/InteractiveLogin?c...</td>\n",
       "      <td>GET</td>\n",
       "      <td>strict-origin-when-cross-origin</td>\n",
       "      <td>[('www.youtube.com',), ('urlencode', 'www.yout...</td>\n",
       "      <td>url_leaks</td>\n",
       "    </tr>\n",
       "    <tr>\n",
       "      <th>61</th>\n",
       "      <td>https://www.youtube.com/@msnbc</td>\n",
       "      <td>https://www.youtube.com/@msnbc</td>\n",
       "      <td>https://accounts.google.com/v3/signin/identifi...</td>\n",
       "      <td>GET</td>\n",
       "      <td>strict-origin-when-cross-origin</td>\n",
       "      <td>[('www.youtube.com',), ('urlencode', 'www.yout...</td>\n",
       "      <td>url_leaks</td>\n",
       "    </tr>\n",
       "  </tbody>\n",
       "</table>\n",
       "<p>62 rows × 7 columns</p>\n",
       "</div>"
      ],
      "text/plain": [
       "                                       init_url  \\\n",
       "0   https://www.youtube.com/watch?v=w9wyajjybuc   \n",
       "1   https://www.youtube.com/watch?v=w9wyajjybuc   \n",
       "2   https://www.youtube.com/watch?v=w9wyajjybuc   \n",
       "3   https://www.youtube.com/watch?v=kq5ayctloom   \n",
       "4   https://www.youtube.com/watch?v=kq5ayctloom   \n",
       "..                                          ...   \n",
       "57         https://www.youtube.com/feed/history   \n",
       "58         https://www.youtube.com/feed/history   \n",
       "59               https://www.youtube.com/@msnbc   \n",
       "60               https://www.youtube.com/@msnbc   \n",
       "61               https://www.youtube.com/@msnbc   \n",
       "\n",
       "                                      final_url  \\\n",
       "0   https://www.youtube.com/watch?v=w9wyajjybuc   \n",
       "1   https://www.youtube.com/watch?v=w9wyajjybuc   \n",
       "2   https://www.youtube.com/watch?v=w9wyajjybuc   \n",
       "3   https://www.youtube.com/watch?v=kq5ayctloom   \n",
       "4   https://www.youtube.com/watch?v=kq5ayctloom   \n",
       "..                                          ...   \n",
       "57         https://www.youtube.com/feed/history   \n",
       "58         https://www.youtube.com/feed/history   \n",
       "59               https://www.youtube.com/@msnbc   \n",
       "60               https://www.youtube.com/@msnbc   \n",
       "61               https://www.youtube.com/@msnbc   \n",
       "\n",
       "                                              req_url req_method  \\\n",
       "0   https://accounts.google.com/ServiceLogin?servi...        GET   \n",
       "1   https://accounts.google.com/InteractiveLogin?c...        GET   \n",
       "2   https://accounts.google.com/v3/signin/identifi...        GET   \n",
       "3   https://accounts.google.com/ServiceLogin?servi...        GET   \n",
       "4   https://accounts.google.com/InteractiveLogin?c...        GET   \n",
       "..                                                ...        ...   \n",
       "57  https://accounts.google.com/InteractiveLogin?c...        GET   \n",
       "58  https://accounts.google.com/v3/signin/identifi...        GET   \n",
       "59  https://accounts.google.com/ServiceLogin?servi...        GET   \n",
       "60  https://accounts.google.com/InteractiveLogin?c...        GET   \n",
       "61  https://accounts.google.com/v3/signin/identifi...        GET   \n",
       "\n",
       "                       ref_pol_data  \\\n",
       "0          origin-when-cross-origin   \n",
       "1          origin-when-cross-origin   \n",
       "2          origin-when-cross-origin   \n",
       "3          origin-when-cross-origin   \n",
       "4          origin-when-cross-origin   \n",
       "..                              ...   \n",
       "57  strict-origin-when-cross-origin   \n",
       "58  strict-origin-when-cross-origin   \n",
       "59  strict-origin-when-cross-origin   \n",
       "60  strict-origin-when-cross-origin   \n",
       "61  strict-origin-when-cross-origin   \n",
       "\n",
       "                                            url_leaks      leaks  \n",
       "0   [('www.youtube.com',), ('urlencode', 'www.yout...  url_leaks  \n",
       "1   [('www.youtube.com',), ('urlencode', 'www.yout...  url_leaks  \n",
       "2   [('www.youtube.com',), ('urlencode', 'www.yout...  url_leaks  \n",
       "3   [('www.youtube.com',), ('urlencode', 'www.yout...  url_leaks  \n",
       "4   [('www.youtube.com',), ('urlencode', 'www.yout...  url_leaks  \n",
       "..                                                ...        ...  \n",
       "57  [('www.youtube.com',), ('urlencode', 'www.yout...  url_leaks  \n",
       "58  [('www.youtube.com',), ('urlencode', 'www.yout...  url_leaks  \n",
       "59  [('www.youtube.com',), ('urlencode', 'www.yout...  url_leaks  \n",
       "60  [('www.youtube.com',), ('urlencode', 'www.yout...  url_leaks  \n",
       "61  [('www.youtube.com',), ('urlencode', 'www.yout...  url_leaks  \n",
       "\n",
       "[62 rows x 7 columns]"
      ]
     },
     "execution_count": 20,
     "metadata": {},
     "output_type": "execute_result"
    }
   ],
   "source": [
    "# create a new dataframe with non-empty 'referer_leaks' column\n",
    "url_leaks_df = drop_non_leak(extracted_df, 'url_leaks')\n",
    "url_leaks_df"
   ]
  },
  {
   "cell_type": "code",
   "execution_count": 21,
   "metadata": {},
   "outputs": [],
   "source": [
    "# and print to csv\n",
    "\n",
    "print_leak_to_csv(url_leaks_df)"
   ]
  },
  {
   "cell_type": "code",
   "execution_count": null,
   "metadata": {},
   "outputs": [],
   "source": [
    "url_leaks_df.count()"
   ]
  },
  {
   "cell_type": "code",
   "execution_count": null,
   "metadata": {},
   "outputs": [],
   "source": [
    "url_leaks_df.req_method.value_counts()"
   ]
  },
  {
   "cell_type": "code",
   "execution_count": null,
   "metadata": {},
   "outputs": [],
   "source": [
    "url_leaks_df.drop_duplicates(subset=['final_url'])"
   ]
  },
  {
   "cell_type": "markdown",
   "metadata": {},
   "source": [
    "### GOOGLE"
   ]
  },
  {
   "cell_type": "code",
   "execution_count": null,
   "metadata": {},
   "outputs": [],
   "source": [
    "# count of url leaks to google\n",
    "url_leaks_df[url_leaks_df['req_url'].str.contains('google')].count()"
   ]
  },
  {
   "cell_type": "code",
   "execution_count": null,
   "metadata": {},
   "outputs": [],
   "source": [
    "# list of url leaks to google\n",
    "url_leaks_df[url_leaks_df['req_url'].str.contains('google')]"
   ]
  },
  {
   "cell_type": "markdown",
   "metadata": {},
   "source": [
    "### Facebook or Meta"
   ]
  },
  {
   "cell_type": "code",
   "execution_count": null,
   "metadata": {},
   "outputs": [],
   "source": [
    "# count of url leaks to Meta or Facebook\n",
    "url_leaks_df[url_leaks_df['req_url'].str.contains('meta') | url_leaks_df['req_url'].str.contains('facebook')].count()"
   ]
  },
  {
   "cell_type": "code",
   "execution_count": null,
   "metadata": {},
   "outputs": [],
   "source": [
    "# list of url leaks to Meta or Facebook\n",
    "url_leaks_df[url_leaks_df['req_url'].str.contains('meta') | url_leaks_df['req_url'].str.contains('facebook')]"
   ]
  },
  {
   "cell_type": "markdown",
   "metadata": {},
   "source": [
    "### Tiktok"
   ]
  },
  {
   "cell_type": "code",
   "execution_count": null,
   "metadata": {},
   "outputs": [],
   "source": [
    "url_leaks_df[url_leaks_df['req_url'].str.contains('tiktok')] "
   ]
  },
  {
   "cell_type": "markdown",
   "metadata": {},
   "source": [
    "### Leaks on Post Data"
   ]
  },
  {
   "cell_type": "code",
   "execution_count": 22,
   "metadata": {},
   "outputs": [
    {
     "data": {
      "text/html": [
       "<div>\n",
       "<style scoped>\n",
       "    .dataframe tbody tr th:only-of-type {\n",
       "        vertical-align: middle;\n",
       "    }\n",
       "\n",
       "    .dataframe tbody tr th {\n",
       "        vertical-align: top;\n",
       "    }\n",
       "\n",
       "    .dataframe thead th {\n",
       "        text-align: right;\n",
       "    }\n",
       "</style>\n",
       "<table border=\"1\" class=\"dataframe\">\n",
       "  <thead>\n",
       "    <tr style=\"text-align: right;\">\n",
       "      <th></th>\n",
       "      <th>init_url</th>\n",
       "      <th>final_url</th>\n",
       "      <th>req_url</th>\n",
       "      <th>req_method</th>\n",
       "      <th>ref_pol_data</th>\n",
       "      <th>post_data</th>\n",
       "      <th>post_leaks</th>\n",
       "      <th>leaks</th>\n",
       "    </tr>\n",
       "  </thead>\n",
       "  <tbody>\n",
       "  </tbody>\n",
       "</table>\n",
       "</div>"
      ],
      "text/plain": [
       "Empty DataFrame\n",
       "Columns: [init_url, final_url, req_url, req_method, ref_pol_data, post_data, post_leaks, leaks]\n",
       "Index: []"
      ]
     },
     "execution_count": 22,
     "metadata": {},
     "output_type": "execute_result"
    }
   ],
   "source": [
    "# create a new dataframe with non-empty 'post_leaks' column\n",
    "post_leaks_df = drop_non_leak(extracted_df, 'post_leaks')\n",
    "post_leaks_df"
   ]
  },
  {
   "cell_type": "code",
   "execution_count": null,
   "metadata": {},
   "outputs": [],
   "source": [
    "# print to csv\n",
    "\n",
    "post_leaks_df['post_data'] = [x[:2048] for x in post_leaks_df['post_data']] # truncate post_data to 2048 characters\n",
    "print_leak_to_csv(post_leaks_df)"
   ]
  },
  {
   "cell_type": "code",
   "execution_count": null,
   "metadata": {},
   "outputs": [],
   "source": [
    "post_leaks_df.count()"
   ]
  },
  {
   "cell_type": "code",
   "execution_count": null,
   "metadata": {},
   "outputs": [],
   "source": [
    "post_leaks_df.req_method.value_counts()\t"
   ]
  },
  {
   "cell_type": "markdown",
   "metadata": {},
   "source": [
    "## Leaks to Google, facebook, and Meta"
   ]
  },
  {
   "cell_type": "code",
   "execution_count": null,
   "metadata": {},
   "outputs": [],
   "source": [
    "# list of post data leaks to google\n",
    "post_leaks_df[post_leaks_df['req_url'].str.contains('google')]"
   ]
  },
  {
   "cell_type": "code",
   "execution_count": null,
   "metadata": {},
   "outputs": [],
   "source": [
    "# list of post data leaks to Meta or Facebook\n",
    "post_leaks_df[post_leaks_df['req_url'].str.contains('meta') | post_leaks_df['req_url'].str.contains('facebook')]"
   ]
  },
  {
   "cell_type": "code",
   "execution_count": null,
   "metadata": {},
   "outputs": [],
   "source": [
    "# list of post data leaks to tiktok\n",
    "post_leaks_df[post_leaks_df['req_url'].str.contains('tiktok')] "
   ]
  }
 ],
 "metadata": {
  "kernelspec": {
   "display_name": "Python 3",
   "language": "python",
   "name": "python3"
  },
  "language_info": {
   "codemirror_mode": {
    "name": "ipython",
    "version": 3
   },
   "file_extension": ".py",
   "mimetype": "text/x-python",
   "name": "python",
   "nbconvert_exporter": "python",
   "pygments_lexer": "ipython3",
   "version": "3.11.2"
  }
 },
 "nbformat": 4,
 "nbformat_minor": 2
}
