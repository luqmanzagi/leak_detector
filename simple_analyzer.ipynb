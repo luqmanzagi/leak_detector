{
 "cells": [
  {
   "cell_type": "markdown",
   "metadata": {},
   "source": [
    "# Simple Analyzer for Leak Detector"
   ]
  },
  {
   "cell_type": "code",
   "execution_count": null,
   "metadata": {},
   "outputs": [],
   "source": [
    "import pandas as pd\n",
    "import re\n",
    "import os"
   ]
  },
  {
   "cell_type": "markdown",
   "metadata": {},
   "source": [
    "## Convert CSV to Dataframe"
   ]
  },
  {
   "cell_type": "code",
   "execution_count": null,
   "metadata": {},
   "outputs": [],
   "source": [
    "csv_file = 'data_raw/2023-11-29_leaks_raw.csv'\n",
    "\n",
    "extracted_df = pd.read_csv(csv_file)\n",
    "extracted_df"
   ]
  },
  {
   "cell_type": "code",
   "execution_count": null,
   "metadata": {},
   "outputs": [],
   "source": [
    "def print_leak_to_csv(df):\n",
    "    \"\"\"\n",
    "    Check dataframe if there are colomn with name: url_leaks, referer_leaks,\n",
    "    and post_leaks. If there are, then print the dataframe to csv file.\n",
    "\n",
    "    :param df: dataframe\n",
    "\n",
    "    :return: csv file with specific name\n",
    "    \"\"\"\n",
    "    os.makedirs(\"data_seg\", exist_ok=True)\n",
    "    extract_date = re.findall(r'20(.*?)_', csv_file)\n",
    "    extract_date = ''.join(extract_date)  # Convert the list to a string\n",
    "\n",
    "    # if 'url_leaks' in df and 'referer_leaks' in df and 'post_leaks' in df:\n",
    "    #     return df.to_csv(extract_date + '_print_raw_leaks.csv')\n",
    "    if 'url_leaks' in df:\n",
    "        return df.to_csv(\"data_seg/\"+ extract_date + '_print_url_leaks.csv')\n",
    "    elif 'referer_leaks' in df:\n",
    "        return df.to_csv(\"data_seg/\"+ extract_date + '_print_referer_leaks.csv')\n",
    "    elif 'post_leaks' in df:\n",
    "        return df.to_csv(\"data_seg/\"+ extract_date + '_print_post_leaks.csv')\n"
   ]
  },
  {
   "cell_type": "code",
   "execution_count": null,
   "metadata": {},
   "outputs": [],
   "source": [
    "def extract_leak(data, leak):\n",
    "    \"\"\"extract data with when 'leak' row is not empty\n",
    "\n",
    "    :param dataframe data: input dataframe\n",
    "    :param str leak: column name\n",
    "\n",
    "    :return: dataframe with non-empty 'leak' column\n",
    "    \"\"\"\n",
    "    return data[(data[leak] != \"[]\")\n",
    "                & (data[leak] != 'None')\n",
    "                & (data[leak] != None)]"
   ]
  },
  {
   "cell_type": "code",
   "execution_count": null,
   "metadata": {},
   "outputs": [],
   "source": [
    "def drop_non_leak(data, leak):\n",
    "    \"\"\"drop data that not related to the leak\n",
    "\n",
    "    :param data: dataframe\n",
    "    :param leak: column name\n",
    "\n",
    "    :return: dataframe with non-empty 'leak' column\n",
    "    \"\"\"\n",
    "    data_seed = extract_leak(data, leak)\n",
    "    if leak == 'url_leaks':\n",
    "        return data_seed.drop(['post_leaks', 'ref_data', 'referer_leaks', 'post_data'], axis=1)\n",
    "    elif leak == 'referer_leaks':\n",
    "        return data_seed.drop(['url_leaks', 'post_leaks', 'post_data'], axis=1)\n",
    "    elif leak == 'post_leaks':\n",
    "        return data_seed.drop(['url_leaks', 'referer_leaks', 'ref_data'], axis=1)\n"
   ]
  },
  {
   "cell_type": "markdown",
   "metadata": {},
   "source": [
    "## Leaks on Referer\n",
    "\n",
    "We still need to compare with the referrer policy to make it accurate"
   ]
  },
  {
   "cell_type": "code",
   "execution_count": null,
   "metadata": {},
   "outputs": [],
   "source": [
    "# create a new dataframe with non-empty 'referer_leaks' column\n",
    "referer_leaks_df = drop_non_leak(extracted_df, 'referer_leaks')\n",
    "referer_leaks_df"
   ]
  },
  {
   "cell_type": "code",
   "execution_count": null,
   "metadata": {},
   "outputs": [],
   "source": [
    "# print to csv\n",
    "\n",
    "print_leak_to_csv(referer_leaks_df)"
   ]
  },
  {
   "cell_type": "code",
   "execution_count": null,
   "metadata": {},
   "outputs": [],
   "source": [
    "referer_leaks_df.count()"
   ]
  },
  {
   "cell_type": "code",
   "execution_count": null,
   "metadata": {},
   "outputs": [],
   "source": [
    "referer_leaks_df.drop_duplicates(subset=['final_url']).count()"
   ]
  },
  {
   "cell_type": "code",
   "execution_count": null,
   "metadata": {},
   "outputs": [],
   "source": [
    "referer_leaks_df.final_url.value_counts()"
   ]
  },
  {
   "cell_type": "code",
   "execution_count": null,
   "metadata": {},
   "outputs": [],
   "source": [
    "referer_leaks_df.req_url.value_counts()"
   ]
  },
  {
   "cell_type": "code",
   "execution_count": null,
   "metadata": {},
   "outputs": [],
   "source": [
    "referer_leaks_df.req_method.value_counts() "
   ]
  },
  {
   "cell_type": "markdown",
   "metadata": {},
   "source": [
    "### Google"
   ]
  },
  {
   "cell_type": "code",
   "execution_count": null,
   "metadata": {},
   "outputs": [],
   "source": [
    "# list of referer leaks to google\n",
    "referer_leaks_df[referer_leaks_df['req_url'].str.contains('google')]"
   ]
  },
  {
   "cell_type": "code",
   "execution_count": null,
   "metadata": {},
   "outputs": [],
   "source": [
    "# counting on referer leaks to google\n",
    "referer_leaks_df[referer_leaks_df['req_url'].str.contains('google')].count()"
   ]
  },
  {
   "cell_type": "markdown",
   "metadata": {},
   "source": [
    "### META / Facebook"
   ]
  },
  {
   "cell_type": "code",
   "execution_count": null,
   "metadata": {},
   "outputs": [],
   "source": [
    "# list of referer leaks to Meta or Facebook\n",
    "referer_leaks_df[referer_leaks_df['req_url'].str.contains('meta') | referer_leaks_df['req_url'].str.contains('facebook')]"
   ]
  },
  {
   "cell_type": "code",
   "execution_count": null,
   "metadata": {},
   "outputs": [],
   "source": [
    "# Counting on referer leaks to Meta or Facebook\n",
    "referer_leaks_df[referer_leaks_df['req_url'].str.contains('meta') | referer_leaks_df['req_url'].str.contains('facebook')].count()"
   ]
  },
  {
   "cell_type": "markdown",
   "metadata": {},
   "source": [
    "### Tiktok"
   ]
  },
  {
   "cell_type": "code",
   "execution_count": null,
   "metadata": {},
   "outputs": [],
   "source": [
    "# list of referer leaks to tiktok\n",
    "referer_leaks_df[referer_leaks_df['req_url'].str.contains('tiktok')] "
   ]
  },
  {
   "cell_type": "code",
   "execution_count": null,
   "metadata": {},
   "outputs": [],
   "source": [
    "# Counting on referer leaks to tiktok\n",
    "referer_leaks_df[referer_leaks_df['req_url'].str.contains('tiktok')].count()"
   ]
  },
  {
   "cell_type": "markdown",
   "metadata": {},
   "source": [
    "## Leaks on URL"
   ]
  },
  {
   "cell_type": "code",
   "execution_count": null,
   "metadata": {},
   "outputs": [],
   "source": [
    "# create a new dataframe with non-empty 'referer_leaks' column\n",
    "url_leaks_df = drop_non_leak(extracted_df, 'url_leaks')\n",
    "url_leaks_df"
   ]
  },
  {
   "cell_type": "code",
   "execution_count": null,
   "metadata": {},
   "outputs": [],
   "source": [
    "# and print to csv\n",
    "\n",
    "print_leak_to_csv(url_leaks_df)"
   ]
  },
  {
   "cell_type": "code",
   "execution_count": null,
   "metadata": {},
   "outputs": [],
   "source": [
    "url_leaks_df.count()"
   ]
  },
  {
   "cell_type": "code",
   "execution_count": null,
   "metadata": {},
   "outputs": [],
   "source": [
    "url_leaks_df.req_method.value_counts()"
   ]
  },
  {
   "cell_type": "code",
   "execution_count": null,
   "metadata": {},
   "outputs": [],
   "source": [
    "url_leaks_df.drop_duplicates(subset=['final_url'])"
   ]
  },
  {
   "cell_type": "markdown",
   "metadata": {},
   "source": [
    "### GOOGLE"
   ]
  },
  {
   "cell_type": "code",
   "execution_count": null,
   "metadata": {},
   "outputs": [],
   "source": [
    "# count of url leaks to google\n",
    "url_leaks_df[url_leaks_df['req_url'].str.contains('google')].count()"
   ]
  },
  {
   "cell_type": "code",
   "execution_count": null,
   "metadata": {},
   "outputs": [],
   "source": [
    "# list of url leaks to google\n",
    "url_leaks_df[url_leaks_df['req_url'].str.contains('google')]"
   ]
  },
  {
   "cell_type": "markdown",
   "metadata": {},
   "source": [
    "### Facebook or Meta"
   ]
  },
  {
   "cell_type": "code",
   "execution_count": null,
   "metadata": {},
   "outputs": [],
   "source": [
    "# count of url leaks to Meta or Facebook\n",
    "url_leaks_df[url_leaks_df['req_url'].str.contains('meta') | url_leaks_df['req_url'].str.contains('facebook')].count()"
   ]
  },
  {
   "cell_type": "code",
   "execution_count": null,
   "metadata": {},
   "outputs": [],
   "source": [
    "# list of url leaks to Meta or Facebook\n",
    "url_leaks_df[url_leaks_df['req_url'].str.contains('meta') | url_leaks_df['req_url'].str.contains('facebook')]"
   ]
  },
  {
   "cell_type": "markdown",
   "metadata": {},
   "source": [
    "### Tiktok"
   ]
  },
  {
   "cell_type": "code",
   "execution_count": null,
   "metadata": {},
   "outputs": [],
   "source": [
    "url_leaks_df[url_leaks_df['req_url'].str.contains('tiktok')] "
   ]
  },
  {
   "cell_type": "markdown",
   "metadata": {},
   "source": [
    "### Leaks on Post Data"
   ]
  },
  {
   "cell_type": "code",
   "execution_count": null,
   "metadata": {},
   "outputs": [],
   "source": [
    "# create a new dataframe with non-empty 'post_leaks' column\n",
    "post_leaks_df = drop_non_leak(extracted_df, 'post_leaks')\n",
    "post_leaks_df"
   ]
  },
  {
   "cell_type": "code",
   "execution_count": null,
   "metadata": {},
   "outputs": [],
   "source": [
    "# print to csv\n",
    "\n",
    "post_leaks_df['post_data'] = [x[:2048] for x in post_leaks_df['post_data']] # truncate post_data to 2048 characters\n",
    "print_leak_to_csv(post_leaks_df)"
   ]
  },
  {
   "cell_type": "code",
   "execution_count": null,
   "metadata": {},
   "outputs": [],
   "source": [
    "post_leaks_df.count()"
   ]
  },
  {
   "cell_type": "code",
   "execution_count": null,
   "metadata": {},
   "outputs": [],
   "source": [
    "post_leaks_df.req_method.value_counts()\t"
   ]
  },
  {
   "cell_type": "markdown",
   "metadata": {},
   "source": [
    "## Leaks to Google, facebook, and Meta"
   ]
  },
  {
   "cell_type": "code",
   "execution_count": null,
   "metadata": {},
   "outputs": [],
   "source": [
    "# list of post data leaks to google\n",
    "post_leaks_df[post_leaks_df['req_url'].str.contains('google')]"
   ]
  },
  {
   "cell_type": "code",
   "execution_count": null,
   "metadata": {},
   "outputs": [],
   "source": [
    "# list of post data leaks to Meta or Facebook\n",
    "post_leaks_df[post_leaks_df['req_url'].str.contains('meta') | post_leaks_df['req_url'].str.contains('facebook')]"
   ]
  },
  {
   "cell_type": "code",
   "execution_count": null,
   "metadata": {},
   "outputs": [],
   "source": [
    "# list of post data leaks to tiktok\n",
    "post_leaks_df[post_leaks_df['req_url'].str.contains('tiktok')] "
   ]
  }
 ],
 "metadata": {
  "kernelspec": {
   "display_name": "Python 3",
   "language": "python",
   "name": "python3"
  },
  "language_info": {
   "codemirror_mode": {
    "name": "ipython",
    "version": 3
   },
   "file_extension": ".py",
   "mimetype": "text/x-python",
   "name": "python",
   "nbconvert_exporter": "python",
   "pygments_lexer": "ipython3",
   "version": "3.11.2"
  }
 },
 "nbformat": 4,
 "nbformat_minor": 2
}
