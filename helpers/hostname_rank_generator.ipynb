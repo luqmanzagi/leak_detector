{
 "cells": [
  {
   "cell_type": "code",
   "execution_count": 44,
   "metadata": {},
   "outputs": [],
   "source": [
    "import glob\n",
    "import orjson as json\n",
    "from os.path import basename\n",
    "import csv\n",
    "from tld import get_fld\n",
    "import maya  \n",
    "import time\n",
    "from collections import defaultdict\n",
    "import re\n",
    "from urllib.parse import urlparse\n",
    "import pandas as pd\n",
    "import pickle"
   ]
  },
  {
   "cell_type": "code",
   "execution_count": 27,
   "metadata": {},
   "outputs": [],
   "source": [
    "crux_domain_dict = dict()\n",
    "csv_file = '../../crawler/crux_urls/top100k.csv'\n",
    "google_list = csv.DictReader(open(csv_file))\n",
    "count = 0\n",
    "for line in google_list:\n",
    "    count += 1\n",
    "    parsed_url = urlparse(line['origin'])\n",
    "    initial_hostname = '{uri.netloc}'.format(uri=urlparse(line['origin']))\n",
    "    \n",
    "    if parsed_url.port:\n",
    "        initial_hostname = parsed_url.netloc.split(':')[0]\n",
    "    \n",
    "    crux_domain_dict[initial_hostname] = count"
   ]
  },
  {
   "cell_type": "code",
   "execution_count": 28,
   "metadata": {},
   "outputs": [
    {
     "data": {
      "text/plain": [
       "100000"
      ]
     },
     "execution_count": 28,
     "metadata": {},
     "output_type": "execute_result"
    }
   ],
   "source": [
    "len(crux_domain_dict)"
   ]
  },
  {
   "cell_type": "code",
   "execution_count": 38,
   "metadata": {},
   "outputs": [],
   "source": [
    "ranks_df = pd.DataFrame(crux_domain_dict.items(), columns= ['hostname', 'rank'])"
   ]
  },
  {
   "cell_type": "code",
   "execution_count": 32,
   "metadata": {},
   "outputs": [],
   "source": [
    "\n",
    "with open('hostname_rank.csv', 'w') as f:  # You will need 'wb' mode in Python 2.x\n",
    "    w = csv.DictWriter(f, crux_domain_dict.keys())\n",
    "    w.writeheader()\n",
    "    w.writerow(crux_domain_dict)"
   ]
  },
  {
   "cell_type": "code",
   "execution_count": 45,
   "metadata": {},
   "outputs": [],
   "source": [
    "with open('hostname_rank_pairs.pkl', 'wb') as handle:\n",
    "    pickle.dump(crux_domain_dict, handle, protocol=pickle.HIGHEST_PROTOCOL)"
   ]
  },
  {
   "cell_type": "code",
   "execution_count": 41,
   "metadata": {},
   "outputs": [],
   "source": [
    "ranks_df.to_csv('hostname_rank.csv', sep=',', encoding='utf-8', index = False)"
   ]
  },
  {
   "cell_type": "code",
   "execution_count": null,
   "metadata": {},
   "outputs": [],
   "source": []
  }
 ],
 "metadata": {
  "kernelspec": {
   "display_name": "Python 3",
   "language": "python",
   "name": "python3"
  },
  "language_info": {
   "codemirror_mode": {
    "name": "ipython",
    "version": 3
   },
   "file_extension": ".py",
   "mimetype": "text/x-python",
   "name": "python",
   "nbconvert_exporter": "python",
   "pygments_lexer": "ipython3",
   "version": "3.6.9"
  }
 },
 "nbformat": 4,
 "nbformat_minor": 4
}
